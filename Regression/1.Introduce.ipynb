{
 "cells": [
  {
   "cell_type": "code",
   "execution_count": 1,
   "metadata": {},
   "outputs": [
    {
     "ename": "ModuleNotFoundError",
     "evalue": "No module named 'pandas'",
     "output_type": "error",
     "traceback": [
      "\u001B[0;31m---------------------------------------------------------------------------\u001B[0m",
      "\u001B[0;31mModuleNotFoundError\u001B[0m                       Traceback (most recent call last)",
      "\u001B[0;32m<ipython-input-1-124ce2619e5b>\u001B[0m in \u001B[0;36m<module>\u001B[0;34m\u001B[0m\n\u001B[1;32m      1\u001B[0m \u001B[0;32mimport\u001B[0m \u001B[0mnumpy\u001B[0m \u001B[0;32mas\u001B[0m \u001B[0mnp\u001B[0m\u001B[0;34m\u001B[0m\u001B[0;34m\u001B[0m\u001B[0m\n\u001B[1;32m      2\u001B[0m \u001B[0;32mimport\u001B[0m \u001B[0mmatplotlib\u001B[0m\u001B[0;34m.\u001B[0m\u001B[0mpyplot\u001B[0m \u001B[0;32mas\u001B[0m \u001B[0mplt\u001B[0m\u001B[0;34m\u001B[0m\u001B[0;34m\u001B[0m\u001B[0m\n\u001B[0;32m----> 3\u001B[0;31m \u001B[0;32mimport\u001B[0m \u001B[0mpandas\u001B[0m \u001B[0;32mas\u001B[0m \u001B[0mpd\u001B[0m\u001B[0;34m\u001B[0m\u001B[0;34m\u001B[0m\u001B[0m\n\u001B[0m\u001B[1;32m      4\u001B[0m \u001B[0;34m\u001B[0m\u001B[0m\n",
      "\u001B[0;31mModuleNotFoundError\u001B[0m: No module named 'pandas'"
     ]
    }
   ],
   "source": [
    "import numpy as np\n",
    "import matplotlib.pyplot as plt\n",
    "import pandas as pd"
   ]
  },
  {
   "cell_type": "markdown",
   "metadata": {},
   "source": [
    "# 基本形式"
   ]
  },
  {
   "cell_type": "markdown",
   "metadata": {},
   "source": [
    "  让我们从我们中学学过的公式讲起, $y = kx + b$. 很显然这函数说明了两个变量 x 和y 之间的变化关系，及就是当我们确定 了k,b的值之后我们可以很快的通过x 找到对那个的y的值。\n",
    " \n",
    "  生活中有很多这样的例子，假设一辆以50km/h的速度匀速形式时，相当于我们知道 我们知道了k=50 ，b = 0;若有想知道一小时走了多远 我们这可以很轻易的得到 $y = 50 * 1 +  0 = 50 km$;当让我们也已可以轻易又一张图来表示路程,时间，速度之间的关系,如图所示：\n",
    "   ![图 1](./img/Speed.png)\n",
    " 那么我们是不是又这么一个印象,好像在日常生活中一个人的身高好像和他父母的身高有一定关系，父母的个子越高则孩子个子也会约高,如果我们用 $y$ 表示孩子的身高，用 $x_1，x_2$表示分别表示父母的身高，那么会不会存在一个类似的规律 $y = k_1x_1+k_2x_2 + b$呢? "
   ]
  },
  {
   "cell_type": "markdown",
   "metadata": {},
   "source": [
    " 我们也可以看这样的一组数据,电视台在不同的地方投放广告之后,播放量带来变化，似乎他们之间也这样的关系,但是具体时什么呢?我们能不能确定出具体的$k_1,k_2,k_3... ?$ 我们能不能在从我们已经统计的数据中找到一些的规律呢？"
   ]
  },
  {
   "cell_type": "code",
   "execution_count": null,
   "metadata": {},
   "outputs": [],
   "source": [
    "data = pd.read_csv('./data/Advertising.csv')  \n",
    "x = data[['TV', 'Radio', 'Newspaper']]\n",
    "y = data['Sales']\n",
    "plt.plot(data['TV'], y, 'ro', label='TV')\n",
    "plt.plot(data['Radio'], y, 'g^', label='Radio')\n",
    "plt.plot(data['Newspaper'], y, 'mv', label='Newspaer')\n",
    "plt.legend(loc='lower right')\n",
    "plt.grid()\n",
    "plt.show()"
   ]
  },
  {
   "cell_type": "markdown",
   "metadata": {},
   "source": [
    "让我们找一些数据来试试 $$y_1 = k_1x_1 + k_2x_2 + k_3x_3 + b$$"
   ]
  },
  {
   "cell_type": "code",
   "execution_count": null,
   "metadata": {},
   "outputs": [],
   "source": [
    "print(x.head())"
   ]
  },
  {
   "cell_type": "code",
   "execution_count": null,
   "metadata": {},
   "outputs": [],
   "source": [
    "print(y.head())"
   ]
  },
  {
   "cell_type": "markdown",
   "metadata": {},
   "source": [
    "我们似乎总能找到一些 k,b的值.当我们将x 安一列来看的时候我们惊奇的发现他没可以用我们学过线性代数表示为向量\n",
    "  $$y^→ = k x^→ + b^→$$\n",
    "那么上面的问题就变成了我们试图通过已知的数据计算出一个$y_i$ 而它与实际值 $y$ 的差距越小\n",
    "我们可以用欧几里得距离来表示 $$\\\\g(x) = (y^→ - y_i^→)^2\\\\$$\n",
    "$$g(x) = ( k x^→ + b^→ - y_i^→)^2$$\n",
    "那么这问题有演变成了一个求最小距离问题"
   ]
  },
  {
   "cell_type": "markdown",
   "metadata": {},
   "source": []
  }
 ],
 "metadata": {
  "kernelspec": {
   "display_name": "Python 3",
   "language": "python",
   "name": "python3"
  },
  "language_info": {
   "codemirror_mode": {
    "name": "ipython",
    "version": 3
   },
   "file_extension": ".py",
   "mimetype": "text/x-python",
   "name": "python",
   "nbconvert_exporter": "python",
   "pygments_lexer": "ipython3",
   "version": "3.6.7"
  }
 },
 "nbformat": 4,
 "nbformat_minor": 2
}