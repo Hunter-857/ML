{
 "cells": [
  {
   "cell_type": "code",
   "execution_count": 1,
   "metadata": {},
   "outputs": [],
   "source": [
    "import numpy as np\n",
    "import matplotlib.pyplot as plt\n",
    "from sklearn.tree import DecisionTreeRegressor"
   ]
  },
  {
   "cell_type": "code",
   "execution_count": null,
   "outputs": [],
   "source": [
    "N = 100\n",
    "x = np.random.rand(N) * 6 - 3     # [-3,3)\n",
    "x.sort()\n",
    "y = np.sin(x) + np.random.randn(N) * 0.05\n",
    "x = x.reshape(-1, 1)  # 转置后，得到N个样本，每个样本都是1维的\n",
    "\n",
    "x,y"
   ],
   "metadata": {
    "collapsed": false,
    "pycharm": {
     "name": "#%%\n"
    }
   }
  },
  {
   "cell_type": "code",
   "execution_count": null,
   "outputs": [],
   "source": [
    "reg = DecisionTreeRegressor(criterion='mse', max_depth=9)\n",
    "dt = reg.fit(x, y)\n",
    "x_test = np.linspace(-3, 3, 50).reshape(-1, 1)\n",
    "y_hat = dt.predict(x_test)\n",
    "plt.plot(x, y, 'r*', linewidth=2, label='Actual')\n",
    "plt.plot(x_test, y_hat, 'g-', linewidth=2, label='Predict')\n",
    "plt.legend(loc='upper left')\n",
    "plt.grid()\n",
    "plt.show()"
   ],
   "metadata": {
    "collapsed": false,
    "pycharm": {
     "name": "#%%\n"
    }
   }
  },
  {
   "cell_type": "code",
   "execution_count": null,
   "outputs": [],
   "source": [
    "# 比较决策树的深度影响\n",
    "depth = [2, 4, 6, 8, 10]\n",
    "clr = 'rgbmy'\n",
    "reg = [DecisionTreeRegressor(criterion='mse', max_depth=depth[0]),\n",
    "       DecisionTreeRegressor(criterion='mse', max_depth=depth[1]),\n",
    "       DecisionTreeRegressor(criterion='mse', max_depth=depth[2]),\n",
    "       DecisionTreeRegressor(criterion='mse', max_depth=depth[3]),\n",
    "       DecisionTreeRegressor(criterion='mse', max_depth=depth[4])]\n",
    "\n",
    "plt.plot(x, y, 'k^', linewidth=2, label='Actual')\n",
    "x_test = np.linspace(-3, 3, 50).reshape(-1, 1)\n",
    "for i, r in enumerate(reg):\n",
    "    dt = r.fit(x, y)\n",
    "    y_hat = dt.predict(x_test)\n",
    "    plt.plot(x_test, y_hat, '-', color=clr[i], linewidth=2, label='Depth=%d' % depth[i])\n",
    "plt.legend(loc='upper left')\n",
    "plt.grid()\n",
    "plt.show()"
   ],
   "metadata": {
    "collapsed": false,
    "pycharm": {
     "name": "#%%\n"
    }
   }
  },
  {
   "cell_type": "code",
   "execution_count": null,
   "outputs": [],
   "source": [],
   "metadata": {
    "collapsed": false,
    "pycharm": {
     "name": "#%%\n"
    }
   }
  },
  {
   "cell_type": "code",
   "execution_count": 4,
   "metadata": {},
   "outputs": [
    {
     "data": {
      "text/plain": [
       "(array([[-2.96288468],\n",
       "        [-2.80805721],\n",
       "        [-2.75371362],\n",
       "        [-2.71292617],\n",
       "        [-2.63773799],\n",
       "        [-2.61527748],\n",
       "        [-2.60396273],\n",
       "        [-2.42542861],\n",
       "        [-2.2887826 ],\n",
       "        [-2.27452576],\n",
       "        [-2.27361097],\n",
       "        [-2.12798817],\n",
       "        [-2.02789858],\n",
       "        [-2.02201089],\n",
       "        [-1.9449818 ],\n",
       "        [-1.93245146],\n",
       "        [-1.91050251],\n",
       "        [-1.9094703 ],\n",
       "        [-1.88785194],\n",
       "        [-1.82648944],\n",
       "        [-1.74005182],\n",
       "        [-1.70072751],\n",
       "        [-1.62898356],\n",
       "        [-1.55366471],\n",
       "        [-1.51592706],\n",
       "        [-1.50861117],\n",
       "        [-1.49832139],\n",
       "        [-1.44643419],\n",
       "        [-1.24709912],\n",
       "        [-1.23932652],\n",
       "        [-1.11270135],\n",
       "        [-1.10540099],\n",
       "        [-0.91195485],\n",
       "        [-0.88905933],\n",
       "        [-0.87252936],\n",
       "        [-0.83457653],\n",
       "        [-0.80232265],\n",
       "        [-0.75550932],\n",
       "        [-0.73793017],\n",
       "        [-0.72466108],\n",
       "        [-0.63441189],\n",
       "        [-0.4379771 ],\n",
       "        [-0.38740041],\n",
       "        [-0.3341706 ],\n",
       "        [-0.30559467],\n",
       "        [-0.22270154],\n",
       "        [-0.21325796],\n",
       "        [-0.07629726],\n",
       "        [-0.05692647],\n",
       "        [ 0.19270061],\n",
       "        [ 0.21696744],\n",
       "        [ 0.22283265],\n",
       "        [ 0.22464686],\n",
       "        [ 0.3174671 ],\n",
       "        [ 0.33720774],\n",
       "        [ 0.41486585],\n",
       "        [ 0.43596881],\n",
       "        [ 0.54984217],\n",
       "        [ 0.57211073],\n",
       "        [ 0.63794125],\n",
       "        [ 0.65334099],\n",
       "        [ 0.66249507],\n",
       "        [ 0.67090885],\n",
       "        [ 0.6831598 ],\n",
       "        [ 0.70028108],\n",
       "        [ 0.7620611 ],\n",
       "        [ 0.7800259 ],\n",
       "        [ 0.80299056],\n",
       "        [ 0.81505674],\n",
       "        [ 0.86644973],\n",
       "        [ 0.88140733],\n",
       "        [ 1.04606374],\n",
       "        [ 1.05032692],\n",
       "        [ 1.0683479 ],\n",
       "        [ 1.08833817],\n",
       "        [ 1.11561721],\n",
       "        [ 1.22614977],\n",
       "        [ 1.28541078],\n",
       "        [ 1.3739636 ],\n",
       "        [ 1.37637366],\n",
       "        [ 1.53862544],\n",
       "        [ 1.64607903],\n",
       "        [ 1.72502878],\n",
       "        [ 1.74600457],\n",
       "        [ 1.75832819],\n",
       "        [ 1.76369947],\n",
       "        [ 1.88956653],\n",
       "        [ 1.95102885],\n",
       "        [ 2.16156655],\n",
       "        [ 2.27771767],\n",
       "        [ 2.36630212],\n",
       "        [ 2.39059501],\n",
       "        [ 2.44589154],\n",
       "        [ 2.6958203 ],\n",
       "        [ 2.72232316],\n",
       "        [ 2.72516262],\n",
       "        [ 2.83601888],\n",
       "        [ 2.88703085],\n",
       "        [ 2.88715481],\n",
       "        [ 2.99404274]]),\n",
       " array([-0.25035931, -0.32858561, -0.46592666, -0.41675555, -0.50396965,\n",
       "        -0.49184096, -0.55527153, -0.59711929, -0.7733266 , -0.79511333,\n",
       "        -0.84540102, -0.8283667 , -0.90731189, -0.86834318, -0.87250915,\n",
       "        -0.8831394 , -0.94635107, -0.97410093, -0.94704039, -0.92851882,\n",
       "        -1.03872804, -0.95079318, -0.98165562, -1.00139056, -0.96443649,\n",
       "        -1.02158577, -1.04385287, -0.98478025, -1.00247083, -1.01812249,\n",
       "        -0.9390299 , -0.92646305, -0.80654009, -0.77039326, -0.78534257,\n",
       "        -0.7250703 , -0.75388284, -0.70915914, -0.69165599, -0.71447102,\n",
       "        -0.59691258, -0.48004744, -0.37005989, -0.27985104, -0.28644244,\n",
       "        -0.2309146 , -0.25428069, -0.08218548,  0.00432015,  0.18540612,\n",
       "         0.23420292,  0.22229016,  0.26169437,  0.33698611,  0.37016272,\n",
       "         0.44557235,  0.32042919,  0.42954349,  0.49656539,  0.56656847,\n",
       "         0.64154601,  0.67564221,  0.65592866,  0.55547549,  0.67791243,\n",
       "         0.79594174,  0.7492869 ,  0.69167461,  0.81764351,  0.73076481,\n",
       "         0.80436632,  0.87995122,  0.86241211,  0.8929863 ,  0.87793829,\n",
       "         0.98254239,  0.98505729,  0.84027839,  0.90022973,  1.06073035,\n",
       "         1.06551436,  0.9225188 ,  0.97474389,  0.97413397,  0.93960117,\n",
       "         0.96013856,  0.91214845,  0.90288597,  0.7493904 ,  0.80800807,\n",
       "         0.67053434,  0.72036818,  0.64223528,  0.36367661,  0.46889058,\n",
       "         0.46430206,  0.29809887,  0.20580201,  0.2300649 ,  0.21184089]))"
      ]
     },
     "execution_count": 4,
     "metadata": {},
     "output_type": "execute_result"
    }
   ],
   "source": []
  },
  {
   "cell_type": "code",
   "execution_count": 5,
   "metadata": {},
   "outputs": [
    {
     "data": {
      "image/png": "[encoded data removed]",
      "text/plain": [
       "<Figure size 432x288 with 1 Axes>"
      ]
     },
     "metadata": {
      "needs_background": "light"
     },
     "output_type": "display_data"
    }
   ],
   "source": [
    "reg = DecisionTreeRegressor(criterion='mse', max_depth=9)\n",
    "dt = reg.fit(x, y)\n",
    "x_test = np.linspace(-3, 3, 50).reshape(-1, 1)\n",
    "y_hat = dt.predict(x_test)\n",
    "plt.plot(x, y, 'r*', linewidth=2, label='Actual')\n",
    "plt.plot(x_test, y_hat, 'g-', linewidth=2, label='Predict')\n",
    "plt.legend(loc='upper left')\n",
    "plt.grid()\n",
    "plt.show()"
   ]
  },
  {
   "cell_type": "code",
   "execution_count": 6,
   "metadata": {
    "pycharm": {
     "name": "#%%\n"
    }
   },
   "outputs": [
    {
     "data": {
      "image/png": "[encoded data removed]",
      "text/plain": [
       "<Figure size 432x288 with 1 Axes>"
      ]
     },
     "metadata": {
      "needs_background": "light"
     },
     "output_type": "display_data"
    }
   ],
   "source": [
    "# 比较决策树的深度影响\n",
    "depth = [2, 4, 6, 8, 10]\n",
    "clr = 'rgbmy'\n",
    "reg = [DecisionTreeRegressor(criterion='mse', max_depth=depth[0]),\n",
    "       DecisionTreeRegressor(criterion='mse', max_depth=depth[1]),\n",
    "       DecisionTreeRegressor(criterion='mse', max_depth=depth[2]),\n",
    "       DecisionTreeRegressor(criterion='mse', max_depth=depth[3]),\n",
    "       DecisionTreeRegressor(criterion='mse', max_depth=depth[4])]\n",
    "\n",
    "plt.plot(x, y, 'k^', linewidth=2, label='Actual')\n",
    "x_test = np.linspace(-3, 3, 50).reshape(-1, 1)\n",
    "for i, r in enumerate(reg):\n",
    "    dt = r.fit(x, y)\n",
    "    y_hat = dt.predict(x_test)\n",
    "    plt.plot(x_test, y_hat, '-', color=clr[i], linewidth=2, label='Depth=%d' % depth[i])\n",
    "plt.legend(loc='upper left')\n",
    "plt.grid()\n",
    "plt.show()"
   ]
  }
 ],
 "metadata": {
  "kernelspec": {
   "display_name": "Python 3",
   "language": "python",
   "name": "python3"
  },
  "language_info": {
   "codemirror_mode": {
    "name": "ipython",
    "version": 3
   },
   "file_extension": ".py",
   "mimetype": "text/x-python",
   "name": "python",
   "nbconvert_exporter": "python",
   "pygments_lexer": "ipython3",
   "version": "3.7.7"
  }
 },
 "nbformat": 4,
 "nbformat_minor": 1
}