{
 "cells": [
  {
   "cell_type": "code",
   "execution_count": null,
   "metadata": {
    "collapsed": true
   },
   "outputs": [],
   "source": []
  },
  {
   "cell_type": "markdown",
   "metadata": {},
   "source": [
    "https://github.com/fengdu78/lihang-code\n",
    "\n",
    "我们似乎总能找到一些 k,b的值.当我们将x 安一列来看的时候我们惊奇的发现他没可以用我们学过线性代数表示为向量\n",
    "  $$y^→ = k x^→ + b^→$$\n",
    "那么上面的问题就变成了我们试图通过已知的数据计算出一个$y_i$ 而它与实际值 $y$ 的差距越小\n",
    "我们可以用欧几里得距离来表示 $$\\\\g(x) = (y - y_i)^2\\\\$$\n",
    "$$g(x) = ( k x + b - y_i^→)^2$$\n",
    "那么这问题有演变成了一个求最小距离问题"
   ]
  }
 ],
 "metadata": {
  "kernelspec": {
   "display_name": "Python 3",
   "language": "python",
   "name": "python3"
  },
  "language_info": {
   "codemirror_mode": {
    "name": "ipython",
    "version": 3
   },
   "file_extension": ".py",
   "mimetype": "text/x-python",
   "name": "python",
   "nbconvert_exporter": "python",
   "pygments_lexer": "ipython3",
   "version": "3.7.7"
  }
 },
 "nbformat": 4,
 "nbformat_minor": 1
}