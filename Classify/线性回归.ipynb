{
 "cells": [
  {
   "cell_type": "code",
   "execution_count": 1,
   "metadata": {},
   "outputs": [],
   "source": [
    "import numpy as np\n",
    "import matplotlib.pyplot as plt\n",
    "import pandas as pd\n",
    "from sklearn.model_selection import train_test_split\n",
    "from sklearn.linear_model import LinearRegression"
   ]
  },
  {
   "cell_type": "markdown",
   "metadata": {},
   "source": [
    "# 基本形式"
   ]
  },
  {
   "cell_type": "markdown",
   "metadata": {},
   "source": [
    "  让我们从我们中学学过的公式讲起, $y = kx + b$. 很显然这函数说明了两个变量 x 和y 之间的变化关系，及就是当我们确定 了k,b的值之后我们可以很快的通过x 找到对那个的y的值。\n",
    " \n",
    "  生活中有很多这样的例子，假设一辆以50km/h的速度匀速形式时，相当于我们知道 我们知道了k=50 ，b = 0;若有想知道一小时走了多远 我们这可以很轻易的得到 $y = 50 * 1 +  0 = 50 km$;当让我们也已可以轻易又一张图来表示路程,时间，速度之间的关系,如图所示：\n",
    " 那么我们是不是又这么一个印象,好像在日常生活中一个人的身高好像和他父母的身高有一定关系，父母的个子越高则孩子个子也会约高,如果我们用 $y$ 表示孩子的身高，用 $x_1，x_2$表示分别表示父母的身高，那么会不会存在一个类似的规律 $y = k_1x_1+k_2x_2 + b$呢? "
   ]
  },
  {
   "cell_type": "markdown",
   "metadata": {},
   "source": [
    " 我们也可以看这样的一组数据,电视台在不同的地方投放广告之后,播放量带来变化，似乎他们之间也这样的关系,但是具体时什么呢?我们能不能确定出具体的$k_1,k_2,k_3... ?$ 我们能不能在从我们已经统计的数据中找到一些的规律呢？"
   ]
  },
  {
   "cell_type": "code",
   "execution_count": 2,
   "metadata": {},
   "outputs": [
    {
     "data": {
      "text/plain": "<Figure size 432x288 with 1 Axes>",
      "image/png": "[encoded data removed]"
     },
     "metadata": {
      "needs_background": "light"
     },
     "output_type": "display_data"
    }
   ],
   "source": [
    "data = pd.read_csv('./data/Advertising.csv')  \n",
    "x = data[['TV', 'Radio', 'Newspaper']]\n",
    "y = data['Sales']\n",
    "plt.plot(data['TV'], y, 'ro', label='TV')\n",
    "plt.plot(data['Radio'], y, 'g^', label='Radio')\n",
    "plt.plot(data['Newspaper'], y, 'mv', label='Newspaer')\n",
    "plt.legend(loc='lower right')\n",
    "plt.grid()\n",
    "plt.show()"
   ]
  },
  {
   "cell_type": "markdown",
   "metadata": {},
   "source": [
    "让我们找一些数据来试试 $$y_1 = k_1x_1 + k_2x_2 + k_3x_3 + b$$"
   ]
  },
  {
   "cell_type": "code",
   "execution_count": 3,
   "metadata": {},
   "outputs": [
    {
     "data": {
      "text/plain": "      TV  Radio  Newspaper\n0  230.1   37.8       69.2\n1   44.5   39.3       45.1\n2   17.2   45.9       69.3\n3  151.5   41.3       58.5\n4  180.8   10.8       58.4",
      "text/html": "<div>\n<style scoped>\n    .dataframe tbody tr th:only-of-type {\n        vertical-align: middle;\n    }\n\n    .dataframe tbody tr th {\n        vertical-align: top;\n    }\n\n    .dataframe thead th {\n        text-align: right;\n    }\n</style>\n<table border=\"1\" class=\"dataframe\">\n  <thead>\n    <tr style=\"text-align: right;\">\n      <th></th>\n      <th>TV</th>\n      <th>Radio</th>\n      <th>Newspaper</th>\n    </tr>\n  </thead>\n  <tbody>\n    <tr>\n      <th>0</th>\n      <td>230.1</td>\n      <td>37.8</td>\n      <td>69.2</td>\n    </tr>\n    <tr>\n      <th>1</th>\n      <td>44.5</td>\n      <td>39.3</td>\n      <td>45.1</td>\n    </tr>\n    <tr>\n      <th>2</th>\n      <td>17.2</td>\n      <td>45.9</td>\n      <td>69.3</td>\n    </tr>\n    <tr>\n      <th>3</th>\n      <td>151.5</td>\n      <td>41.3</td>\n      <td>58.5</td>\n    </tr>\n    <tr>\n      <th>4</th>\n      <td>180.8</td>\n      <td>10.8</td>\n      <td>58.4</td>\n    </tr>\n  </tbody>\n</table>\n</div>"
     },
     "execution_count": 3,
     "metadata": {},
     "output_type": "execute_result"
    }
   ],
   "source": [
    "x.head()"
   ]
  },
  {
   "cell_type": "code",
   "execution_count": 4,
   "metadata": {},
   "outputs": [
    {
     "data": {
      "text/plain": "0    22.1\n1    10.4\n2     9.3\n3    18.5\n4    12.9\nName: Sales, dtype: float64"
     },
     "execution_count": 4,
     "metadata": {},
     "output_type": "execute_result"
    }
   ],
   "source": [
    "y.head()"
   ]
  },
  {
   "cell_type": "markdown",
   "metadata": {},
   "source": [
    "从图行上来看 无论是广告的形式是TV Radio 或者是 newsparer 呈现出来的关系总是递增的。\n",
    "那么\n",
    "\n",
    "如果令 \n",
    "    TV     $$x_1$$ \n",
    "    Radio  $$x_2$$ \n",
    "new paroer $$x_3$$\n",
    "那么销量：\n",
    "        $$y = k_1 x_1 + k_2 x_2 + k_3 x_3 + b$$\n",
    "性回归的目的就是找到一个最合适的 $$ k_1  ,k_2 x_2 , k_3 和 b $$\n",
    "\n",
    "\n",
    "欧式距离，求解最优解"
   ]
  },
  {
   "cell_type": "code",
   "execution_count": 5,
   "metadata": {
    "scrolled": true
   },
   "outputs": [
    {
     "data": {
      "text/plain": "(147.0425, 23.264000000000006, 30.553999999999995)"
     },
     "execution_count": 5,
     "metadata": {},
     "output_type": "execute_result"
    }
   ],
   "source": [
    "x['TV'].mean(),x['Radio'].mean(),x['Newspaper'].mean() # 归一化"
   ]
  },
  {
   "cell_type": "code",
   "execution_count": 6,
   "metadata": {},
   "outputs": [],
   "source": [
    "x_train, x_test, y_train, y_test = train_test_split(x, y, random_state=1)\n",
    "linreg = LinearRegression()\n",
    "model = linreg.fit(x_train, y_train)"
   ]
  },
  {
   "cell_type": "code",
   "execution_count": 7,
   "metadata": {},
   "outputs": [
    {
     "data": {
      "text/plain": "(array([0.04656457, 0.17915812, 0.00345046]), 2.87696662231793)"
     },
     "execution_count": 7,
     "metadata": {},
     "output_type": "execute_result"
    }
   ],
   "source": [
    "# w_1 - w_n  # w_0\n",
    "linreg.coef_,linreg.intercept_"
   ]
  },
  {
   "cell_type": "code",
   "execution_count": 7,
   "metadata": {},
   "outputs": [],
   "source": []
  }
 ],
 "metadata": {
  "kernelspec": {
   "display_name": "Python 3",
   "language": "python",
   "name": "python3"
  },
  "language_info": {
   "codemirror_mode": {
    "name": "ipython",
    "version": 3
   },
   "file_extension": ".py",
   "mimetype": "text/x-python",
   "name": "python",
   "nbconvert_exporter": "python",
   "pygments_lexer": "ipython3",
   "version": "3.7.7"
  }
 },
 "nbformat": 4,
 "nbformat_minor": 2
}