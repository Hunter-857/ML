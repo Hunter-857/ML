{
 "cells": [
  {
   "cell_type": "markdown",
   "metadata": {},
   "source": [
    "## numpy\n",
    "官方文档: https://numpy.org/doc/stable/reference/index.html"
   ]
  },
  {
   "cell_type": "code",
   "execution_count": 5,
   "metadata": {},
   "outputs": [],
   "source": [
    "# 引入\n",
    "import numpy as np"
   ]
  },
  {
   "cell_type": "markdown",
   "metadata": {},
   "source": [
    "创建Numpy Array 对象"
   ]
  },
  {
   "cell_type": "code",
   "execution_count": 6,
   "metadata": {},
   "outputs": [
    {
     "name": "stdout",
     "output_type": "stream",
     "text": [
      "Python list: [4, 3, 2, 1]\n",
      "NumPy array: [4 3 2 1]\n"
     ]
    }
   ],
   "source": [
    "# Going from Python list to NumPy array\n",
    "py_lst = [4,3,2,1]\n",
    "np_arr = np.array(py_lst)\n",
    "print('Python list:',py_lst)\n",
    "print('NumPy array:',np_arr)"
   ]
  },
  {
   "cell_type": "code",
   "execution_count": 7,
   "metadata": {},
   "outputs": [
    {
     "name": "stdout",
     "output_type": "stream",
     "text": [
      "[[0 1 2 3]\n",
      " [1 2 3 4]\n",
      " [2 3 4 5]\n",
      " [3 4 5 6]]\n"
     ]
    }
   ],
   "source": [
    "# 创建一个空array 每个元素类型都是 int32\n",
    "np_arr = np.empty([4,4], dtype=np.int32) # An empty 4x4 numpy array\n",
    "# 给array 赋值\n",
    "for i in range(4):\n",
    "    for j in range(4):\n",
    "        np_arr[i,j] = i+j\n",
    "\n",
    "print(np_arr)"
   ]
  },
  {
   "cell_type": "code",
   "execution_count": 8,
   "metadata": {},
   "outputs": [
    {
     "data": {
      "text/plain": [
       "array([[1, 1, 1, 1],\n",
       "       [1, 1, 1, 1],\n",
       "       [1, 1, 1, 1],\n",
       "       [1, 1, 1, 1]])"
      ]
     },
     "execution_count": 8,
     "metadata": {},
     "output_type": "execute_result"
    }
   ],
   "source": [
    "ones = np.ones([4,4],dtype=np.int32)\n",
    "ones"
   ]
  },
  {
   "cell_type": "code",
   "execution_count": 9,
   "metadata": {},
   "outputs": [
    {
     "data": {
      "text/plain": [
       "array([[1, 0, 0, 0],\n",
       "       [0, 1, 0, 0],\n",
       "       [0, 0, 1, 0],\n",
       "       [0, 0, 0, 1]])"
      ]
     },
     "execution_count": 9,
     "metadata": {},
     "output_type": "execute_result"
    }
   ],
   "source": [
    "e_array =np.eye(4,dtype=np.int32)\n",
    "e_array"
   ]
  },
  {
   "cell_type": "code",
   "execution_count": 10,
   "metadata": {},
   "outputs": [
    {
     "name": "stdout",
     "output_type": "stream",
     "text": [
      "np_arr1: [0. 1. 2. 3. 4. 5. 6. 7. 8. 9.]\n",
      "np_arr2: [0 1 2 3 4 5 6 7 8 9]\n"
     ]
    }
   ],
   "source": [
    "np_arr1 = np.linspace(0, 9, 10) # args for linspace(): (start, stop, num_divisions)\n",
    "print('np_arr1:',np_arr1)\n",
    "\n",
    "np_arr2 = np.arange(0, 10, 1) # args for arange(): (start, stop, step)\n",
    "print('np_arr2:',np_arr2)"
   ]
  },
  {
   "cell_type": "markdown",
   "metadata": {},
   "source": [
    "## Numpy  数组 和 python 数组\n",
    "两者有写区别,如下面的代码。\n",
    "python 数组相加会使得value拼接\n",
    "Numpy 相加则是矩阵的加法"
   ]
  },
  {
   "cell_type": "code",
   "execution_count": 11,
   "metadata": {},
   "outputs": [
    {
     "name": "stdout",
     "output_type": "stream",
     "text": [
      "lst: [1, 2, 3]\n",
      "lst + lst = [1, 2, 3, 1, 2, 3]\n",
      "\n",
      "arr:\n",
      " [[1. 0. 0.]\n",
      " [0. 1. 0.]\n",
      " [0. 0. 1.]]\n",
      "arr + arr =\n",
      " [[2. 0. 0.]\n",
      " [0. 2. 0.]\n",
      " [0. 0. 2.]]\n"
     ]
    }
   ],
   "source": [
    "lst = [1,2,3]\n",
    "arr = np.eye(3)\n",
    "lst2 = lst + lst\n",
    "arr2 = arr + arr\n",
    "print('lst:',lst)\n",
    "print('lst + lst =',lst2)\n",
    "print('\\narr:\\n',arr)\n",
    "print('arr + arr =\\n',arr2)"
   ]
  },
  {
   "cell_type": "markdown",
   "metadata": {},
   "source": [
    "## NumPy数组切片\n",
    "又来获取特定索引下数值"
   ]
  },
  {
   "cell_type": "code",
   "execution_count": 12,
   "metadata": {},
   "outputs": [
    {
     "name": "stdout",
     "output_type": "stream",
     "text": [
      "\n",
      "First ten elements of simple_arr: [0 1 2 3 4 5 6 7 8 9]\n",
      "\n",
      "Last ten elements of simple_arr: [90 91 92 93 94 95 96 97 98 99]\n",
      "\n",
      "Elements 16-25 of simple_arr: [16 17 18 19 20 21 22 23 24 25]\n"
     ]
    }
   ],
   "source": [
    "simple_arr = np.arange(0,100,1)\n",
    "# print(simple_arr) # 按顺序 产生 0-99 的 一维数组\n",
    "#[start: end: step]  开始 ，结束 ， 步长 。\n",
    "print('\\nFirst ten elements of simple_arr:',simple_arr[0:10])\n",
    "# 也可以反向 -10 到 0\n",
    "print('\\nLast ten elements of simple_arr:',simple_arr[-10:]) # you should be aware that in Python,\n",
    "# 获取16 到 26.\n",
    "print('\\nElements 16-25 of simple_arr:',simple_arr[16:26])"
   ]
  },
  {
   "cell_type": "code",
   "execution_count": 13,
   "metadata": {},
   "outputs": [
    {
     "name": "stdout",
     "output_type": "stream",
     "text": [
      "\n",
      "Every-other element of simple_arr, starting from 0: [ 0  2  4  6  8 10 12 14 16 18]\n",
      "\n",
      "Every-third element of simple_arr, starting from 0: [ 0  3  6  9 12 15 18]\n",
      "\n",
      "Every-other element of simple_arr, starting from 10-16: [10 12 14]\n"
     ]
    }
   ],
   "source": [
    "simple_arr = np.arange(0,20,1)\n",
    "# 0-20 步长为2\n",
    "print('\\nEvery-other element of simple_arr, starting from 0:',simple_arr[::2])\n",
    "# 0-20 步长为3\n",
    "print('\\nEvery-third element of simple_arr, starting from 0:',simple_arr[::3])\n",
    "# 10-16 步长为2\n",
    "print('\\nEvery-other element of simple_arr, starting from 10-16:',simple_arr[10:16:2])"
   ]
  },
  {
   "cell_type": "code",
   "execution_count": 14,
   "metadata": {},
   "outputs": [
    {
     "name": "stdout",
     "output_type": "stream",
     "text": [
      "i:\n",
      " [[ 0  1  2  3  4]\n",
      " [ 5  6  7  8  9]\n",
      " [10 11 12 13 14]\n",
      " [15 16 17 18 19]\n",
      " [20 21 22 23 24]]\n",
      "\n",
      "First row of i: [0 1 2 3 4]\n",
      "\n",
      "First column of i: [ 0  5 10 15 20]\n",
      "\n",
      "Rows 1-3 of i:\n",
      " [[ 5  6  7  8  9]\n",
      " [10 11 12 13 14]\n",
      " [15 16 17 18 19]]\n",
      "\n",
      "Columns 1-3 of i:\n",
      " [[ 1  2  3]\n",
      " [ 6  7  8]\n",
      " [11 12 13]\n",
      " [16 17 18]\n",
      " [21 22 23]]\n",
      "\n",
      "Top left 3x3 of i:\n",
      " [[ 0  1  2]\n",
      " [ 5  6  7]\n",
      " [10 11 12]]\n",
      "\n",
      "Every-other column of i:\n",
      " [[ 0  2  4]\n",
      " [ 5  7  9]\n",
      " [10 12 14]\n",
      " [15 17 19]\n",
      " [20 22 24]]\n"
     ]
    }
   ],
   "source": [
    "# Example 16: Slicing NumPy arrays\n",
    "#0-25 的 5 * 5 矩阵\n",
    "i = np.array(range(25), dtype=np.int32).reshape([5,5]) # numpy.reshape() will be introduced in the next cell\n",
    "print('i:\\n',i)\n",
    "print('\\nFirst row of i:',i[0])\n",
    "# 第一列 注意有个 逗号隔开，行 和 列\n",
    "print('\\nFirst column of i:',i[:,0])\n",
    "# 行是 1-4\n",
    "print('\\nRows 1-3 of i:\\n',i[1:4])\n",
    "print('\\nColumns 1-3 of i:\\n',i[:,1:4])\n",
    "print('\\nTop left 3x3 of i:\\n',i[:3,:3])\n",
    "print('\\nEvery-other column of i:\\n',i[:,::2])"
   ]
  },
  {
   "cell_type": "markdown",
   "metadata": {},
   "source": [
    "### NumPy array reshaping"
   ]
  },
  {
   "cell_type": "code",
   "execution_count": 15,
   "metadata": {},
   "outputs": [
    {
     "name": "stdout",
     "output_type": "stream",
     "text": [
      "Shape of test_arr: (15, 189)\n",
      "Number of elements in test_arr: 2835\n"
     ]
    }
   ],
   "source": [
    "test_arr1 = np.zeros([15,189])\n",
    "# print(test_arr1)\n",
    "print('Shape of test_arr:',test_arr1.shape) # Notice .shape is a NumPy array property NOT a function, i.e. no parenthesis.\n",
    "print('Number of elements in test_arr:',test_arr1.size)"
   ]
  },
  {
   "cell_type": "code",
   "execution_count": 16,
   "metadata": {},
   "outputs": [
    {
     "name": "stdout",
     "output_type": "stream",
     "text": [
      "\n",
      "test_arr: [ 0  1  2  3  4  5  6  7  8  9 10 11 12 13 14 15]\n",
      "Shape of test_arr: (16,)\n",
      "\n",
      "Reshaped test_arr:\n",
      " [[ 0  1  2  3]\n",
      " [ 4  5  6  7]\n",
      " [ 8  9 10 11]\n",
      " [12 13 14 15]]\n",
      "Shape of test_arr_4x4: (4, 4)\n",
      "\n",
      "test_arr back as a vector: [ 0  1  2  3  4  5  6  7  8  9 10 11 12 13 14 15]\n",
      "Shape of test_arr_vec: (16,)\n",
      "\n",
      "test_arr back as a vector: [ 0  1  2  3  4  5  6  7  8  9 10 11 12 13 14 15]\n",
      "Shape of test_arr_vec: (16,)\n"
     ]
    }
   ],
   "source": [
    "test_arr2 = np.array(range(16), dtype=np.int32)\n",
    "print('\\ntest_arr:',test_arr2)\n",
    "print('Shape of test_arr:',test_arr2.shape)\n",
    "\n",
    "## 使用数组调用 而不是使用np 调用\n",
    "test_arr_4x4 = test_arr2.reshape([4,4])\n",
    "print('\\nReshaped test_arr:\\n',test_arr_4x4)\n",
    "print('Shape of test_arr_4x4:',test_arr_4x4.shape)\n",
    "\n",
    "# 把数组改成向量\n",
    "test_arr_vec = test_arr_4x4.reshape(test_arr_4x4.size)\n",
    "print('\\ntest_arr back as a vector:',test_arr_vec)\n",
    "print('Shape of test_arr_vec:',test_arr_vec.shape)\n",
    "# 也可以使用 flatten\n",
    "test_arr_4x4_2 = test_arr2.reshape([4,4])\n",
    "test_arr_vec_2 = test_arr_4x4_2.flatten()\n",
    "print('\\ntest_arr back as a vector:',test_arr_vec_2)\n",
    "print('Shape of test_arr_vec:',test_arr_vec_2.shape)"
   ]
  },
  {
   "cell_type": "markdown",
   "metadata": {},
   "source": [
    "### 有用的方法\n",
    "transpose()  转置\n",
    "linalg.inv()       求逆\n",
    "dot()              矩阵乘法\n",
    "concatenate()\n",
    "vstack()\n",
    "hstack()\n",
    "max()             最大\n",
    "argmax()\n",
    "手册： https://numpy.org/doc/stable/reference/index.html"
   ]
  },
  {
   "cell_type": "code",
   "execution_count": 17,
   "metadata": {},
   "outputs": [
    {
     "name": "stdout",
     "output_type": "stream",
     "text": [
      "\n",
      "norm:\n",
      " [[ 0  1  2  3]\n",
      " [ 4  5  6  7]\n",
      " [ 8  9 10 11]\n",
      " [12 13 14 15]]\n",
      "\n",
      "norm_transpose:\n",
      " [[ 0  4  8 12]\n",
      " [ 1  5  9 13]\n",
      " [ 2  6 10 14]\n",
      " [ 3  7 11 15]]\n",
      "\n",
      "norm easy transpose:\n",
      " [[ 0  4  8 12]\n",
      " [ 1  5  9 13]\n",
      " [ 2  6 10 14]\n",
      " [ 3  7 11 15]]\n"
     ]
    }
   ],
   "source": [
    "norm = np.array(range(16), dtype=np.int32).reshape([4,4])\n",
    "print('\\nnorm:\\n',norm)\n",
    "# 不过对于多维数组 transpose 可以规定转置的轴\n",
    "norm_transpose = np.transpose(norm)\n",
    "print('\\nnorm_transpose:\\n',norm_transpose)\n",
    "# 或者直接用 arr.T\n",
    "print('\\nnorm easy transpose:\\n',norm.T)\n",
    "\n",
    "# norm_transpose1 = np.transpose(norm,axes=[4,3,2,1])\n",
    "# print('\\nnorm_transpose1:\\n',norm_transpose1)"
   ]
  },
  {
   "cell_type": "code",
   "execution_count": 18,
   "metadata": {},
   "outputs": [
    {
     "name": "stdout",
     "output_type": "stream",
     "text": [
      "\n",
      "i:\n",
      " [[1. 0. 0. 0.]\n",
      " [0. 1. 0. 0.]\n",
      " [0. 0. 1. 0.]\n",
      " [0. 0. 0. 1.]]\n",
      "\n",
      "i_inv:\n",
      " [[1. 0. 0. 0.]\n",
      " [0. 1. 0. 0.]\n",
      " [0. 0. 1. 0.]\n",
      " [0. 0. 0. 1.]]\n",
      "\n",
      "As expected, i == inv(i).\n"
     ]
    }
   ],
   "source": [
    "i = np.eye(4)\n",
    "print('\\ni:\\n',i)\n",
    "\n",
    "# Notice .inv() is a function in the linalg library of NumPy.\n",
    "i_inv = np.linalg.inv(i)\n",
    "print('\\ni_inv:\\n',i_inv)\n",
    "print('\\nAs expected, i == inv(i).')"
   ]
  },
  {
   "cell_type": "code",
   "execution_count": 19,
   "metadata": {},
   "outputs": [
    {
     "name": "stdout",
     "output_type": "stream",
     "text": [
      "\n",
      "a:\n",
      " [[2 3]\n",
      " [4 5]]\n",
      "\n",
      "b:\n",
      " [[1 2]\n",
      " [0 2]]\n",
      "\n",
      "Append b to the \"bottom\" of a:\n",
      " [[2 3]\n",
      " [4 5]\n",
      " [1 2]\n",
      " [0 2]]\n",
      "\n",
      "Append b to the \"right\" of a:\n",
      " [[2 3 1 2]\n",
      " [4 5 0 2]]\n"
     ]
    }
   ],
   "source": [
    "# numpy.concatenate()  append/attach multiple arrays.\n",
    "# 把数组连接，并且指定 axis数\n",
    "a = np.array([[2,3],[4,5]])\n",
    "print('\\na:\\n',a)\n",
    "b = np.array([[1,2],[0,2]])\n",
    "print('\\nb:\\n',b)\n",
    "\n",
    "# axis controls how to concatenate the arrays. axis=0 attach vertically, axis=1 attach horizontally.\n",
    "c = np.concatenate([a,b], axis=0)\n",
    "print('\\nAppend b to the \"bottom\" of a:\\n',c)\n",
    "\n",
    "d = np.concatenate([a,b], axis=1)\n",
    "print('\\nAppend b to the \"right\" of a:\\n',d)"
   ]
  },
  {
   "cell_type": "code",
   "execution_count": 20,
   "metadata": {},
   "outputs": [
    {
     "name": "stdout",
     "output_type": "stream",
     "text": [
      "\n",
      "a:\n",
      " [[2 3]\n",
      " [4 5]]\n",
      "\n",
      "b:\n",
      " [[1 2]\n",
      " [0 2]]\n",
      "\n",
      "vstack a and b:\n",
      " [[2 3]\n",
      " [4 5]\n",
      " [1 2]\n",
      " [0 2]]\n",
      "Notice this is equivalent to concatenate with axis=0.\n",
      "\n",
      "hstack a and b:\n",
      " [[2 3 1 2]\n",
      " [4 5 0 2]]\n",
      "Notice this is equivalent to concatenate with axis=1.\n"
     ]
    }
   ],
   "source": [
    "a = np.array([[2,3],[4,5]])\n",
    "print('\\na:\\n',a)\n",
    "b = np.array([[1,2],[0,2]])\n",
    "print('\\nb:\\n',b)\n",
    "\n",
    "# 按顺序垂直 堆放\n",
    "c = np.vstack([a,b])\n",
    "print('\\nvstack a and b:\\n',c)\n",
    "print('Notice this is equivalent to concatenate with axis=0.')\n",
    "\n",
    "# 按顺序水平叠放\n",
    "d = np.hstack([a,b])\n",
    "print('\\nhstack a and b:\\n',d)\n",
    "print('Notice this is equivalent to concatenate with axis=1.')"
   ]
  },
  {
   "cell_type": "markdown",
   "metadata": {},
   "source": [
    "## Pandas\n",
    "官方文档:https://pandas.pydata.org/docs/reference/index.html#api\n",
    "\n",
    "* Series：类似于一维数组的对象，是由一组数据（各种NumPy数据类型）及一组与之相关的数据标签（索引）组成。仅由一组数据也可产生Series 对象。注意：Series 中的索引值是可以重复的。\n",
    "* DataFrame：表格型的数据结构，由一组有序的列组成，每列可以是不同的数据类型（数值、字符串、布尔型等）。DataFrame 既有行索引，也有列索引，可以看作是Series 组成的字典。"
   ]
  },
  {
   "cell_type": "code",
   "execution_count": 21,
   "metadata": {},
   "outputs": [],
   "source": [
    "import pandas as pd"
   ]
  },
  {
   "cell_type": "code",
   "execution_count": 22,
   "metadata": {},
   "outputs": [
    {
     "name": "stdout",
     "output_type": "stream",
     "text": [
      "0    11\n",
      "1    12\n",
      "2    13\n",
      "3    14\n",
      "4    15\n",
      "dtype: int64\n",
      "2    13\n",
      "3    14\n",
      "dtype: int64\n"
     ]
    }
   ],
   "source": [
    "demo =  pd.Series([11,12,13,14,15])\n",
    "print(demo)\n",
    "print(demo[2:4])"
   ]
  },
  {
   "cell_type": "code",
   "execution_count": 23,
   "metadata": {},
   "outputs": [
    {
     "name": "stdout",
     "output_type": "stream",
     "text": [
      "a     1\n",
      "b    23\n",
      "c     2\n",
      "d     2\n",
      "e     1\n",
      "dtype: int64\n",
      "2\n"
     ]
    }
   ],
   "source": [
    "# list中指定了index\n",
    "demo2 = pd.Series([1,23,2,2,1],index = list(\"abcde\"))\n",
    "print(demo2)\n",
    "print(demo2[\"c\"])"
   ]
  },
  {
   "cell_type": "code",
   "execution_count": 24,
   "metadata": {},
   "outputs": [
    {
     "data": {
      "text/html": [
       "<div>\n",
       "<style scoped>\n",
       "    .dataframe tbody tr th:only-of-type {\n",
       "        vertical-align: middle;\n",
       "    }\n",
       "\n",
       "    .dataframe tbody tr th {\n",
       "        vertical-align: top;\n",
       "    }\n",
       "\n",
       "    .dataframe thead th {\n",
       "        text-align: right;\n",
       "    }\n",
       "</style>\n",
       "<table border=\"1\" class=\"dataframe\">\n",
       "  <thead>\n",
       "    <tr style=\"text-align: right;\">\n",
       "      <th></th>\n",
       "      <th>0</th>\n",
       "      <th>1</th>\n",
       "      <th>2</th>\n",
       "      <th>3</th>\n",
       "    </tr>\n",
       "  </thead>\n",
       "  <tbody>\n",
       "    <tr>\n",
       "      <th>0</th>\n",
       "      <td>0</td>\n",
       "      <td>1</td>\n",
       "      <td>2</td>\n",
       "      <td>3</td>\n",
       "    </tr>\n",
       "    <tr>\n",
       "      <th>1</th>\n",
       "      <td>4</td>\n",
       "      <td>5</td>\n",
       "      <td>6</td>\n",
       "      <td>7</td>\n",
       "    </tr>\n",
       "    <tr>\n",
       "      <th>2</th>\n",
       "      <td>8</td>\n",
       "      <td>9</td>\n",
       "      <td>10</td>\n",
       "      <td>11</td>\n",
       "    </tr>\n",
       "  </tbody>\n",
       "</table>\n",
       "</div>"
      ],
      "text/plain": [
       "   0  1   2   3\n",
       "0  0  1   2   3\n",
       "1  4  5   6   7\n",
       "2  8  9  10  11"
      ]
     },
     "execution_count": 24,
     "metadata": {},
     "output_type": "execute_result"
    }
   ],
   "source": [
    "pd.DataFrame(np.arange(12).reshape(3,4))"
   ]
  },
  {
   "cell_type": "code",
   "execution_count": 25,
   "metadata": {},
   "outputs": [
    {
     "data": {
      "text/html": [
       "<div>\n",
       "<style scoped>\n",
       "    .dataframe tbody tr th:only-of-type {\n",
       "        vertical-align: middle;\n",
       "    }\n",
       "\n",
       "    .dataframe tbody tr th {\n",
       "        vertical-align: top;\n",
       "    }\n",
       "\n",
       "    .dataframe thead th {\n",
       "        text-align: right;\n",
       "    }\n",
       "</style>\n",
       "<table border=\"1\" class=\"dataframe\">\n",
       "  <thead>\n",
       "    <tr style=\"text-align: right;\">\n",
       "      <th></th>\n",
       "      <th>w</th>\n",
       "      <th>x</th>\n",
       "      <th>y</th>\n",
       "      <th>z</th>\n",
       "    </tr>\n",
       "  </thead>\n",
       "  <tbody>\n",
       "    <tr>\n",
       "      <th>a</th>\n",
       "      <td>0</td>\n",
       "      <td>1</td>\n",
       "      <td>2</td>\n",
       "      <td>3</td>\n",
       "    </tr>\n",
       "    <tr>\n",
       "      <th>b</th>\n",
       "      <td>4</td>\n",
       "      <td>5</td>\n",
       "      <td>6</td>\n",
       "      <td>7</td>\n",
       "    </tr>\n",
       "    <tr>\n",
       "      <th>c</th>\n",
       "      <td>8</td>\n",
       "      <td>9</td>\n",
       "      <td>10</td>\n",
       "      <td>11</td>\n",
       "    </tr>\n",
       "  </tbody>\n",
       "</table>\n",
       "</div>"
      ],
      "text/plain": [
       "   w  x   y   z\n",
       "a  0  1   2   3\n",
       "b  4  5   6   7\n",
       "c  8  9  10  11"
      ]
     },
     "execution_count": 25,
     "metadata": {},
     "output_type": "execute_result"
    }
   ],
   "source": [
    "#DataFrame的横纵索引是可以指定的\n",
    "pd.DataFrame(np.arange(12).reshape(3,4),index = list(\"abc\"),columns = list(\"wxyz\"))"
   ]
  },
  {
   "cell_type": "code",
   "execution_count": 26,
   "metadata": {},
   "outputs": [
    {
     "ename": "FileNotFoundError",
     "evalue": "[Errno 2] No such file or directory: 'data/Advertising.csv'",
     "output_type": "error",
     "traceback": [
      "\u001b[1;31m---------------------------------------------------------------------------\u001b[0m",
      "\u001b[1;31mFileNotFoundError\u001b[0m                         Traceback (most recent call last)",
      "Cell \u001b[1;32mIn[26], line 1\u001b[0m\n\u001b[1;32m----> 1\u001b[0m df \u001b[39m=\u001b[39m pd\u001b[39m.\u001b[39;49mread_csv(\u001b[39m'\u001b[39;49m\u001b[39mdata/Advertising.csv\u001b[39;49m\u001b[39m'\u001b[39;49m)\n\u001b[0;32m      2\u001b[0m \u001b[39m# 读取文件的前5行\u001b[39;00m\n\u001b[0;32m      3\u001b[0m df\u001b[39m.\u001b[39mhead()\n",
      "File \u001b[1;32mc:\\Users\\admin\\.conda\\envs\\ML\\lib\\site-packages\\pandas\\io\\parsers.py:610\u001b[0m, in \u001b[0;36mread_csv\u001b[1;34m(filepath_or_buffer, sep, delimiter, header, names, index_col, usecols, squeeze, prefix, mangle_dupe_cols, dtype, engine, converters, true_values, false_values, skipinitialspace, skiprows, skipfooter, nrows, na_values, keep_default_na, na_filter, verbose, skip_blank_lines, parse_dates, infer_datetime_format, keep_date_col, date_parser, dayfirst, cache_dates, iterator, chunksize, compression, thousands, decimal, lineterminator, quotechar, quoting, doublequote, escapechar, comment, encoding, dialect, error_bad_lines, warn_bad_lines, delim_whitespace, low_memory, memory_map, float_precision, storage_options)\u001b[0m\n\u001b[0;32m    605\u001b[0m kwds_defaults \u001b[39m=\u001b[39m _refine_defaults_read(\n\u001b[0;32m    606\u001b[0m     dialect, delimiter, delim_whitespace, engine, sep, defaults\u001b[39m=\u001b[39m{\u001b[39m\"\u001b[39m\u001b[39mdelimiter\u001b[39m\u001b[39m\"\u001b[39m: \u001b[39m\"\u001b[39m\u001b[39m,\u001b[39m\u001b[39m\"\u001b[39m}\n\u001b[0;32m    607\u001b[0m )\n\u001b[0;32m    608\u001b[0m kwds\u001b[39m.\u001b[39mupdate(kwds_defaults)\n\u001b[1;32m--> 610\u001b[0m \u001b[39mreturn\u001b[39;00m _read(filepath_or_buffer, kwds)\n",
      "File \u001b[1;32mc:\\Users\\admin\\.conda\\envs\\ML\\lib\\site-packages\\pandas\\io\\parsers.py:462\u001b[0m, in \u001b[0;36m_read\u001b[1;34m(filepath_or_buffer, kwds)\u001b[0m\n\u001b[0;32m    459\u001b[0m _validate_names(kwds\u001b[39m.\u001b[39mget(\u001b[39m\"\u001b[39m\u001b[39mnames\u001b[39m\u001b[39m\"\u001b[39m, \u001b[39mNone\u001b[39;00m))\n\u001b[0;32m    461\u001b[0m \u001b[39m# Create the parser.\u001b[39;00m\n\u001b[1;32m--> 462\u001b[0m parser \u001b[39m=\u001b[39m TextFileReader(filepath_or_buffer, \u001b[39m*\u001b[39m\u001b[39m*\u001b[39mkwds)\n\u001b[0;32m    464\u001b[0m \u001b[39mif\u001b[39;00m chunksize \u001b[39mor\u001b[39;00m iterator:\n\u001b[0;32m    465\u001b[0m     \u001b[39mreturn\u001b[39;00m parser\n",
      "File \u001b[1;32mc:\\Users\\admin\\.conda\\envs\\ML\\lib\\site-packages\\pandas\\io\\parsers.py:819\u001b[0m, in \u001b[0;36mTextFileReader.__init__\u001b[1;34m(self, f, engine, **kwds)\u001b[0m\n\u001b[0;32m    816\u001b[0m \u001b[39mif\u001b[39;00m \u001b[39m\"\u001b[39m\u001b[39mhas_index_names\u001b[39m\u001b[39m\"\u001b[39m \u001b[39min\u001b[39;00m kwds:\n\u001b[0;32m    817\u001b[0m     \u001b[39mself\u001b[39m\u001b[39m.\u001b[39moptions[\u001b[39m\"\u001b[39m\u001b[39mhas_index_names\u001b[39m\u001b[39m\"\u001b[39m] \u001b[39m=\u001b[39m kwds[\u001b[39m\"\u001b[39m\u001b[39mhas_index_names\u001b[39m\u001b[39m\"\u001b[39m]\n\u001b[1;32m--> 819\u001b[0m \u001b[39mself\u001b[39m\u001b[39m.\u001b[39m_engine \u001b[39m=\u001b[39m \u001b[39mself\u001b[39;49m\u001b[39m.\u001b[39;49m_make_engine(\u001b[39mself\u001b[39;49m\u001b[39m.\u001b[39;49mengine)\n",
      "File \u001b[1;32mc:\\Users\\admin\\.conda\\envs\\ML\\lib\\site-packages\\pandas\\io\\parsers.py:1050\u001b[0m, in \u001b[0;36mTextFileReader._make_engine\u001b[1;34m(self, engine)\u001b[0m\n\u001b[0;32m   1046\u001b[0m     \u001b[39mraise\u001b[39;00m \u001b[39mValueError\u001b[39;00m(\n\u001b[0;32m   1047\u001b[0m         \u001b[39mf\u001b[39m\u001b[39m\"\u001b[39m\u001b[39mUnknown engine: \u001b[39m\u001b[39m{\u001b[39;00mengine\u001b[39m}\u001b[39;00m\u001b[39m (valid options are \u001b[39m\u001b[39m{\u001b[39;00mmapping\u001b[39m.\u001b[39mkeys()\u001b[39m}\u001b[39;00m\u001b[39m)\u001b[39m\u001b[39m\"\u001b[39m\n\u001b[0;32m   1048\u001b[0m     )\n\u001b[0;32m   1049\u001b[0m \u001b[39m# error: Too many arguments for \"ParserBase\"\u001b[39;00m\n\u001b[1;32m-> 1050\u001b[0m \u001b[39mreturn\u001b[39;00m mapping[engine](\u001b[39mself\u001b[39m\u001b[39m.\u001b[39mf, \u001b[39m*\u001b[39m\u001b[39m*\u001b[39m\u001b[39mself\u001b[39m\u001b[39m.\u001b[39moptions)\n",
      "File \u001b[1;32mc:\\Users\\admin\\.conda\\envs\\ML\\lib\\site-packages\\pandas\\io\\parsers.py:1867\u001b[0m, in \u001b[0;36mCParserWrapper.__init__\u001b[1;34m(self, src, **kwds)\u001b[0m\n\u001b[0;32m   1864\u001b[0m kwds[\u001b[39m\"\u001b[39m\u001b[39musecols\u001b[39m\u001b[39m\"\u001b[39m] \u001b[39m=\u001b[39m \u001b[39mself\u001b[39m\u001b[39m.\u001b[39musecols\n\u001b[0;32m   1866\u001b[0m \u001b[39m# open handles\u001b[39;00m\n\u001b[1;32m-> 1867\u001b[0m \u001b[39mself\u001b[39;49m\u001b[39m.\u001b[39;49m_open_handles(src, kwds)\n\u001b[0;32m   1868\u001b[0m \u001b[39massert\u001b[39;00m \u001b[39mself\u001b[39m\u001b[39m.\u001b[39mhandles \u001b[39mis\u001b[39;00m \u001b[39mnot\u001b[39;00m \u001b[39mNone\u001b[39;00m\n\u001b[0;32m   1869\u001b[0m \u001b[39mfor\u001b[39;00m key \u001b[39min\u001b[39;00m (\u001b[39m\"\u001b[39m\u001b[39mstorage_options\u001b[39m\u001b[39m\"\u001b[39m, \u001b[39m\"\u001b[39m\u001b[39mencoding\u001b[39m\u001b[39m\"\u001b[39m, \u001b[39m\"\u001b[39m\u001b[39mmemory_map\u001b[39m\u001b[39m\"\u001b[39m, \u001b[39m\"\u001b[39m\u001b[39mcompression\u001b[39m\u001b[39m\"\u001b[39m):\n",
      "File \u001b[1;32mc:\\Users\\admin\\.conda\\envs\\ML\\lib\\site-packages\\pandas\\io\\parsers.py:1362\u001b[0m, in \u001b[0;36mParserBase._open_handles\u001b[1;34m(self, src, kwds)\u001b[0m\n\u001b[0;32m   1358\u001b[0m \u001b[39mdef\u001b[39;00m \u001b[39m_open_handles\u001b[39m(\u001b[39mself\u001b[39m, src: FilePathOrBuffer, kwds: Dict[\u001b[39mstr\u001b[39m, Any]) \u001b[39m-\u001b[39m\u001b[39m>\u001b[39m \u001b[39mNone\u001b[39;00m:\n\u001b[0;32m   1359\u001b[0m     \u001b[39m\"\"\"\u001b[39;00m\n\u001b[0;32m   1360\u001b[0m \u001b[39m    Let the readers open IOHanldes after they are done with their potential raises.\u001b[39;00m\n\u001b[0;32m   1361\u001b[0m \u001b[39m    \"\"\"\u001b[39;00m\n\u001b[1;32m-> 1362\u001b[0m     \u001b[39mself\u001b[39m\u001b[39m.\u001b[39mhandles \u001b[39m=\u001b[39m get_handle(\n\u001b[0;32m   1363\u001b[0m         src,\n\u001b[0;32m   1364\u001b[0m         \u001b[39m\"\u001b[39;49m\u001b[39mr\u001b[39;49m\u001b[39m\"\u001b[39;49m,\n\u001b[0;32m   1365\u001b[0m         encoding\u001b[39m=\u001b[39;49mkwds\u001b[39m.\u001b[39;49mget(\u001b[39m\"\u001b[39;49m\u001b[39mencoding\u001b[39;49m\u001b[39m\"\u001b[39;49m, \u001b[39mNone\u001b[39;49;00m),\n\u001b[0;32m   1366\u001b[0m         compression\u001b[39m=\u001b[39;49mkwds\u001b[39m.\u001b[39;49mget(\u001b[39m\"\u001b[39;49m\u001b[39mcompression\u001b[39;49m\u001b[39m\"\u001b[39;49m, \u001b[39mNone\u001b[39;49;00m),\n\u001b[0;32m   1367\u001b[0m         memory_map\u001b[39m=\u001b[39;49mkwds\u001b[39m.\u001b[39;49mget(\u001b[39m\"\u001b[39;49m\u001b[39mmemory_map\u001b[39;49m\u001b[39m\"\u001b[39;49m, \u001b[39mFalse\u001b[39;49;00m),\n\u001b[0;32m   1368\u001b[0m         storage_options\u001b[39m=\u001b[39;49mkwds\u001b[39m.\u001b[39;49mget(\u001b[39m\"\u001b[39;49m\u001b[39mstorage_options\u001b[39;49m\u001b[39m\"\u001b[39;49m, \u001b[39mNone\u001b[39;49;00m),\n\u001b[0;32m   1369\u001b[0m     )\n",
      "File \u001b[1;32mc:\\Users\\admin\\.conda\\envs\\ML\\lib\\site-packages\\pandas\\io\\common.py:642\u001b[0m, in \u001b[0;36mget_handle\u001b[1;34m(path_or_buf, mode, encoding, compression, memory_map, is_text, errors, storage_options)\u001b[0m\n\u001b[0;32m    640\u001b[0m         errors \u001b[39m=\u001b[39m \u001b[39m\"\u001b[39m\u001b[39mreplace\u001b[39m\u001b[39m\"\u001b[39m\n\u001b[0;32m    641\u001b[0m     \u001b[39m# Encoding\u001b[39;00m\n\u001b[1;32m--> 642\u001b[0m     handle \u001b[39m=\u001b[39m \u001b[39mopen\u001b[39;49m(\n\u001b[0;32m    643\u001b[0m         handle,\n\u001b[0;32m    644\u001b[0m         ioargs\u001b[39m.\u001b[39;49mmode,\n\u001b[0;32m    645\u001b[0m         encoding\u001b[39m=\u001b[39;49mioargs\u001b[39m.\u001b[39;49mencoding,\n\u001b[0;32m    646\u001b[0m         errors\u001b[39m=\u001b[39;49merrors,\n\u001b[0;32m    647\u001b[0m         newline\u001b[39m=\u001b[39;49m\u001b[39m\"\u001b[39;49m\u001b[39m\"\u001b[39;49m,\n\u001b[0;32m    648\u001b[0m     )\n\u001b[0;32m    649\u001b[0m \u001b[39melse\u001b[39;00m:\n\u001b[0;32m    650\u001b[0m     \u001b[39m# Binary mode\u001b[39;00m\n\u001b[0;32m    651\u001b[0m     handle \u001b[39m=\u001b[39m \u001b[39mopen\u001b[39m(handle, ioargs\u001b[39m.\u001b[39mmode)\n",
      "\u001b[1;31mFileNotFoundError\u001b[0m: [Errno 2] No such file or directory: 'data/Advertising.csv'"
     ]
    }
   ],
   "source": [
    "df = pd.read_csv('data/Advertising.csv')\n",
    "# 读取文件的前5行\n",
    "df.head()"
   ]
  },
  {
   "cell_type": "code",
   "execution_count": null,
   "metadata": {},
   "outputs": [
    {
     "data": {
      "text/plain": [
       "(200, 5)"
      ]
     },
     "execution_count": 52,
     "metadata": {},
     "output_type": "execute_result"
    }
   ],
   "source": [
    "# 和Numpy 有些相似\n",
    "df.shape"
   ]
  },
  {
   "cell_type": "code",
   "execution_count": null,
   "metadata": {},
   "outputs": [
    {
     "data": {
      "text/plain": [
       "2"
      ]
     },
     "execution_count": 53,
     "metadata": {},
     "output_type": "execute_result"
    }
   ],
   "source": [
    "df.ndim"
   ]
  },
  {
   "cell_type": "code",
   "execution_count": null,
   "metadata": {},
   "outputs": [
    {
     "data": {
      "text/plain": [
       "RangeIndex(start=0, stop=200, step=1)"
      ]
     },
     "execution_count": 54,
     "metadata": {},
     "output_type": "execute_result"
    }
   ],
   "source": [
    "df.index"
   ]
  },
  {
   "cell_type": "code",
   "execution_count": null,
   "metadata": {},
   "outputs": [
    {
     "data": {
      "text/plain": [
       "Index(['no', 'TV', 'Radio', 'Newspaper', 'Sales'], dtype='object')"
      ]
     },
     "execution_count": 55,
     "metadata": {},
     "output_type": "execute_result"
    }
   ],
   "source": [
    "df.columns"
   ]
  },
  {
   "cell_type": "code",
   "execution_count": null,
   "metadata": {},
   "outputs": [
    {
     "data": {
      "text/html": [
       "<div>\n",
       "<style scoped>\n",
       "    .dataframe tbody tr th:only-of-type {\n",
       "        vertical-align: middle;\n",
       "    }\n",
       "\n",
       "    .dataframe tbody tr th {\n",
       "        vertical-align: top;\n",
       "    }\n",
       "\n",
       "    .dataframe thead th {\n",
       "        text-align: right;\n",
       "    }\n",
       "</style>\n",
       "<table border=\"1\" class=\"dataframe\">\n",
       "  <thead>\n",
       "    <tr style=\"text-align: right;\">\n",
       "      <th></th>\n",
       "      <th>no</th>\n",
       "      <th>TV</th>\n",
       "      <th>Radio</th>\n",
       "      <th>Newspaper</th>\n",
       "      <th>Sales</th>\n",
       "    </tr>\n",
       "  </thead>\n",
       "  <tbody>\n",
       "    <tr>\n",
       "      <th>count</th>\n",
       "      <td>200.000000</td>\n",
       "      <td>200.000000</td>\n",
       "      <td>200.000000</td>\n",
       "      <td>200.000000</td>\n",
       "      <td>200.000000</td>\n",
       "    </tr>\n",
       "    <tr>\n",
       "      <th>mean</th>\n",
       "      <td>100.500000</td>\n",
       "      <td>147.042500</td>\n",
       "      <td>23.264000</td>\n",
       "      <td>30.554000</td>\n",
       "      <td>14.022500</td>\n",
       "    </tr>\n",
       "    <tr>\n",
       "      <th>std</th>\n",
       "      <td>57.879185</td>\n",
       "      <td>85.854236</td>\n",
       "      <td>14.846809</td>\n",
       "      <td>21.778621</td>\n",
       "      <td>5.217457</td>\n",
       "    </tr>\n",
       "    <tr>\n",
       "      <th>min</th>\n",
       "      <td>1.000000</td>\n",
       "      <td>0.700000</td>\n",
       "      <td>0.000000</td>\n",
       "      <td>0.300000</td>\n",
       "      <td>1.600000</td>\n",
       "    </tr>\n",
       "    <tr>\n",
       "      <th>25%</th>\n",
       "      <td>50.750000</td>\n",
       "      <td>74.375000</td>\n",
       "      <td>9.975000</td>\n",
       "      <td>12.750000</td>\n",
       "      <td>10.375000</td>\n",
       "    </tr>\n",
       "    <tr>\n",
       "      <th>50%</th>\n",
       "      <td>100.500000</td>\n",
       "      <td>149.750000</td>\n",
       "      <td>22.900000</td>\n",
       "      <td>25.750000</td>\n",
       "      <td>12.900000</td>\n",
       "    </tr>\n",
       "    <tr>\n",
       "      <th>75%</th>\n",
       "      <td>150.250000</td>\n",
       "      <td>218.825000</td>\n",
       "      <td>36.525000</td>\n",
       "      <td>45.100000</td>\n",
       "      <td>17.400000</td>\n",
       "    </tr>\n",
       "    <tr>\n",
       "      <th>max</th>\n",
       "      <td>200.000000</td>\n",
       "      <td>296.400000</td>\n",
       "      <td>49.600000</td>\n",
       "      <td>114.000000</td>\n",
       "      <td>27.000000</td>\n",
       "    </tr>\n",
       "  </tbody>\n",
       "</table>\n",
       "</div>"
      ],
      "text/plain": [
       "               no          TV       Radio   Newspaper       Sales\n",
       "count  200.000000  200.000000  200.000000  200.000000  200.000000\n",
       "mean   100.500000  147.042500   23.264000   30.554000   14.022500\n",
       "std     57.879185   85.854236   14.846809   21.778621    5.217457\n",
       "min      1.000000    0.700000    0.000000    0.300000    1.600000\n",
       "25%     50.750000   74.375000    9.975000   12.750000   10.375000\n",
       "50%    100.500000  149.750000   22.900000   25.750000   12.900000\n",
       "75%    150.250000  218.825000   36.525000   45.100000   17.400000\n",
       "max    200.000000  296.400000   49.600000  114.000000   27.000000"
      ]
     },
     "execution_count": 56,
     "metadata": {},
     "output_type": "execute_result"
    }
   ],
   "source": [
    "df.describe()"
   ]
  },
  {
   "cell_type": "code",
   "execution_count": null,
   "metadata": {},
   "outputs": [
    {
     "data": {
      "text/html": [
       "<div>\n",
       "<style scoped>\n",
       "    .dataframe tbody tr th:only-of-type {\n",
       "        vertical-align: middle;\n",
       "    }\n",
       "\n",
       "    .dataframe tbody tr th {\n",
       "        vertical-align: top;\n",
       "    }\n",
       "\n",
       "    .dataframe thead th {\n",
       "        text-align: right;\n",
       "    }\n",
       "</style>\n",
       "<table border=\"1\" class=\"dataframe\">\n",
       "  <thead>\n",
       "    <tr style=\"text-align: right;\">\n",
       "      <th></th>\n",
       "      <th>no</th>\n",
       "      <th>TV</th>\n",
       "      <th>Radio</th>\n",
       "      <th>Newspaper</th>\n",
       "      <th>Sales</th>\n",
       "    </tr>\n",
       "  </thead>\n",
       "  <tbody>\n",
       "    <tr>\n",
       "      <th>0</th>\n",
       "      <td>1</td>\n",
       "      <td>230.1</td>\n",
       "      <td>37.8</td>\n",
       "      <td>69.2</td>\n",
       "      <td>22.1</td>\n",
       "    </tr>\n",
       "    <tr>\n",
       "      <th>1</th>\n",
       "      <td>2</td>\n",
       "      <td>44.5</td>\n",
       "      <td>39.3</td>\n",
       "      <td>45.1</td>\n",
       "      <td>10.4</td>\n",
       "    </tr>\n",
       "    <tr>\n",
       "      <th>2</th>\n",
       "      <td>3</td>\n",
       "      <td>17.2</td>\n",
       "      <td>45.9</td>\n",
       "      <td>69.3</td>\n",
       "      <td>9.3</td>\n",
       "    </tr>\n",
       "    <tr>\n",
       "      <th>3</th>\n",
       "      <td>4</td>\n",
       "      <td>151.5</td>\n",
       "      <td>41.3</td>\n",
       "      <td>58.5</td>\n",
       "      <td>18.5</td>\n",
       "    </tr>\n",
       "    <tr>\n",
       "      <th>4</th>\n",
       "      <td>5</td>\n",
       "      <td>180.8</td>\n",
       "      <td>10.8</td>\n",
       "      <td>58.4</td>\n",
       "      <td>12.9</td>\n",
       "    </tr>\n",
       "    <tr>\n",
       "      <th>5</th>\n",
       "      <td>6</td>\n",
       "      <td>8.7</td>\n",
       "      <td>48.9</td>\n",
       "      <td>75.0</td>\n",
       "      <td>7.2</td>\n",
       "    </tr>\n",
       "    <tr>\n",
       "      <th>6</th>\n",
       "      <td>7</td>\n",
       "      <td>57.5</td>\n",
       "      <td>32.8</td>\n",
       "      <td>23.5</td>\n",
       "      <td>11.8</td>\n",
       "    </tr>\n",
       "    <tr>\n",
       "      <th>7</th>\n",
       "      <td>8</td>\n",
       "      <td>120.2</td>\n",
       "      <td>19.6</td>\n",
       "      <td>11.6</td>\n",
       "      <td>13.2</td>\n",
       "    </tr>\n",
       "    <tr>\n",
       "      <th>8</th>\n",
       "      <td>9</td>\n",
       "      <td>8.6</td>\n",
       "      <td>2.1</td>\n",
       "      <td>1.0</td>\n",
       "      <td>4.8</td>\n",
       "    </tr>\n",
       "    <tr>\n",
       "      <th>9</th>\n",
       "      <td>10</td>\n",
       "      <td>199.8</td>\n",
       "      <td>2.6</td>\n",
       "      <td>21.2</td>\n",
       "      <td>10.6</td>\n",
       "    </tr>\n",
       "    <tr>\n",
       "      <th>10</th>\n",
       "      <td>11</td>\n",
       "      <td>66.1</td>\n",
       "      <td>5.8</td>\n",
       "      <td>24.2</td>\n",
       "      <td>8.6</td>\n",
       "    </tr>\n",
       "    <tr>\n",
       "      <th>11</th>\n",
       "      <td>12</td>\n",
       "      <td>214.7</td>\n",
       "      <td>24.0</td>\n",
       "      <td>4.0</td>\n",
       "      <td>17.4</td>\n",
       "    </tr>\n",
       "    <tr>\n",
       "      <th>12</th>\n",
       "      <td>13</td>\n",
       "      <td>23.8</td>\n",
       "      <td>35.1</td>\n",
       "      <td>65.9</td>\n",
       "      <td>9.2</td>\n",
       "    </tr>\n",
       "    <tr>\n",
       "      <th>13</th>\n",
       "      <td>14</td>\n",
       "      <td>97.5</td>\n",
       "      <td>7.6</td>\n",
       "      <td>7.2</td>\n",
       "      <td>9.7</td>\n",
       "    </tr>\n",
       "    <tr>\n",
       "      <th>14</th>\n",
       "      <td>15</td>\n",
       "      <td>204.1</td>\n",
       "      <td>32.9</td>\n",
       "      <td>46.0</td>\n",
       "      <td>19.0</td>\n",
       "    </tr>\n",
       "    <tr>\n",
       "      <th>15</th>\n",
       "      <td>16</td>\n",
       "      <td>195.4</td>\n",
       "      <td>47.7</td>\n",
       "      <td>52.9</td>\n",
       "      <td>22.4</td>\n",
       "    </tr>\n",
       "    <tr>\n",
       "      <th>16</th>\n",
       "      <td>17</td>\n",
       "      <td>67.8</td>\n",
       "      <td>36.6</td>\n",
       "      <td>114.0</td>\n",
       "      <td>12.5</td>\n",
       "    </tr>\n",
       "    <tr>\n",
       "      <th>17</th>\n",
       "      <td>18</td>\n",
       "      <td>281.4</td>\n",
       "      <td>39.6</td>\n",
       "      <td>55.8</td>\n",
       "      <td>24.4</td>\n",
       "    </tr>\n",
       "    <tr>\n",
       "      <th>18</th>\n",
       "      <td>19</td>\n",
       "      <td>69.2</td>\n",
       "      <td>20.5</td>\n",
       "      <td>18.3</td>\n",
       "      <td>11.3</td>\n",
       "    </tr>\n",
       "    <tr>\n",
       "      <th>19</th>\n",
       "      <td>20</td>\n",
       "      <td>147.3</td>\n",
       "      <td>23.9</td>\n",
       "      <td>19.1</td>\n",
       "      <td>14.6</td>\n",
       "    </tr>\n",
       "    <tr>\n",
       "      <th>20</th>\n",
       "      <td>21</td>\n",
       "      <td>218.4</td>\n",
       "      <td>27.7</td>\n",
       "      <td>53.4</td>\n",
       "      <td>18.0</td>\n",
       "    </tr>\n",
       "    <tr>\n",
       "      <th>21</th>\n",
       "      <td>22</td>\n",
       "      <td>237.4</td>\n",
       "      <td>5.1</td>\n",
       "      <td>23.5</td>\n",
       "      <td>12.5</td>\n",
       "    </tr>\n",
       "    <tr>\n",
       "      <th>22</th>\n",
       "      <td>23</td>\n",
       "      <td>13.2</td>\n",
       "      <td>15.9</td>\n",
       "      <td>49.6</td>\n",
       "      <td>5.6</td>\n",
       "    </tr>\n",
       "    <tr>\n",
       "      <th>23</th>\n",
       "      <td>24</td>\n",
       "      <td>228.3</td>\n",
       "      <td>16.9</td>\n",
       "      <td>26.2</td>\n",
       "      <td>15.5</td>\n",
       "    </tr>\n",
       "    <tr>\n",
       "      <th>24</th>\n",
       "      <td>25</td>\n",
       "      <td>62.3</td>\n",
       "      <td>12.6</td>\n",
       "      <td>18.3</td>\n",
       "      <td>9.7</td>\n",
       "    </tr>\n",
       "    <tr>\n",
       "      <th>25</th>\n",
       "      <td>26</td>\n",
       "      <td>262.9</td>\n",
       "      <td>3.5</td>\n",
       "      <td>19.5</td>\n",
       "      <td>12.0</td>\n",
       "    </tr>\n",
       "    <tr>\n",
       "      <th>26</th>\n",
       "      <td>27</td>\n",
       "      <td>142.9</td>\n",
       "      <td>29.3</td>\n",
       "      <td>12.6</td>\n",
       "      <td>15.0</td>\n",
       "    </tr>\n",
       "    <tr>\n",
       "      <th>27</th>\n",
       "      <td>28</td>\n",
       "      <td>240.1</td>\n",
       "      <td>16.7</td>\n",
       "      <td>22.9</td>\n",
       "      <td>15.9</td>\n",
       "    </tr>\n",
       "    <tr>\n",
       "      <th>28</th>\n",
       "      <td>29</td>\n",
       "      <td>248.8</td>\n",
       "      <td>27.1</td>\n",
       "      <td>22.9</td>\n",
       "      <td>18.9</td>\n",
       "    </tr>\n",
       "    <tr>\n",
       "      <th>29</th>\n",
       "      <td>30</td>\n",
       "      <td>70.6</td>\n",
       "      <td>16.0</td>\n",
       "      <td>40.8</td>\n",
       "      <td>10.5</td>\n",
       "    </tr>\n",
       "    <tr>\n",
       "      <th>30</th>\n",
       "      <td>31</td>\n",
       "      <td>292.9</td>\n",
       "      <td>28.3</td>\n",
       "      <td>43.2</td>\n",
       "      <td>21.4</td>\n",
       "    </tr>\n",
       "    <tr>\n",
       "      <th>31</th>\n",
       "      <td>32</td>\n",
       "      <td>112.9</td>\n",
       "      <td>17.4</td>\n",
       "      <td>38.6</td>\n",
       "      <td>11.9</td>\n",
       "    </tr>\n",
       "    <tr>\n",
       "      <th>32</th>\n",
       "      <td>33</td>\n",
       "      <td>97.2</td>\n",
       "      <td>1.5</td>\n",
       "      <td>30.0</td>\n",
       "      <td>9.6</td>\n",
       "    </tr>\n",
       "    <tr>\n",
       "      <th>33</th>\n",
       "      <td>34</td>\n",
       "      <td>265.6</td>\n",
       "      <td>20.0</td>\n",
       "      <td>0.3</td>\n",
       "      <td>17.4</td>\n",
       "    </tr>\n",
       "    <tr>\n",
       "      <th>34</th>\n",
       "      <td>35</td>\n",
       "      <td>95.7</td>\n",
       "      <td>1.4</td>\n",
       "      <td>7.4</td>\n",
       "      <td>9.5</td>\n",
       "    </tr>\n",
       "    <tr>\n",
       "      <th>35</th>\n",
       "      <td>36</td>\n",
       "      <td>290.7</td>\n",
       "      <td>4.1</td>\n",
       "      <td>8.5</td>\n",
       "      <td>12.8</td>\n",
       "    </tr>\n",
       "    <tr>\n",
       "      <th>36</th>\n",
       "      <td>37</td>\n",
       "      <td>266.9</td>\n",
       "      <td>43.8</td>\n",
       "      <td>5.0</td>\n",
       "      <td>25.4</td>\n",
       "    </tr>\n",
       "    <tr>\n",
       "      <th>37</th>\n",
       "      <td>38</td>\n",
       "      <td>74.7</td>\n",
       "      <td>49.4</td>\n",
       "      <td>45.7</td>\n",
       "      <td>14.7</td>\n",
       "    </tr>\n",
       "    <tr>\n",
       "      <th>38</th>\n",
       "      <td>39</td>\n",
       "      <td>43.1</td>\n",
       "      <td>26.7</td>\n",
       "      <td>35.1</td>\n",
       "      <td>10.1</td>\n",
       "    </tr>\n",
       "    <tr>\n",
       "      <th>39</th>\n",
       "      <td>40</td>\n",
       "      <td>228.0</td>\n",
       "      <td>37.7</td>\n",
       "      <td>32.0</td>\n",
       "      <td>21.5</td>\n",
       "    </tr>\n",
       "    <tr>\n",
       "      <th>40</th>\n",
       "      <td>41</td>\n",
       "      <td>202.5</td>\n",
       "      <td>22.3</td>\n",
       "      <td>31.6</td>\n",
       "      <td>16.6</td>\n",
       "    </tr>\n",
       "    <tr>\n",
       "      <th>41</th>\n",
       "      <td>42</td>\n",
       "      <td>177.0</td>\n",
       "      <td>33.4</td>\n",
       "      <td>38.7</td>\n",
       "      <td>17.1</td>\n",
       "    </tr>\n",
       "    <tr>\n",
       "      <th>42</th>\n",
       "      <td>43</td>\n",
       "      <td>293.6</td>\n",
       "      <td>27.7</td>\n",
       "      <td>1.8</td>\n",
       "      <td>20.7</td>\n",
       "    </tr>\n",
       "    <tr>\n",
       "      <th>43</th>\n",
       "      <td>44</td>\n",
       "      <td>206.9</td>\n",
       "      <td>8.4</td>\n",
       "      <td>26.4</td>\n",
       "      <td>12.9</td>\n",
       "    </tr>\n",
       "    <tr>\n",
       "      <th>44</th>\n",
       "      <td>45</td>\n",
       "      <td>25.1</td>\n",
       "      <td>25.7</td>\n",
       "      <td>43.3</td>\n",
       "      <td>8.5</td>\n",
       "    </tr>\n",
       "    <tr>\n",
       "      <th>45</th>\n",
       "      <td>46</td>\n",
       "      <td>175.1</td>\n",
       "      <td>22.5</td>\n",
       "      <td>31.5</td>\n",
       "      <td>14.9</td>\n",
       "    </tr>\n",
       "    <tr>\n",
       "      <th>46</th>\n",
       "      <td>47</td>\n",
       "      <td>89.7</td>\n",
       "      <td>9.9</td>\n",
       "      <td>35.7</td>\n",
       "      <td>10.6</td>\n",
       "    </tr>\n",
       "    <tr>\n",
       "      <th>47</th>\n",
       "      <td>48</td>\n",
       "      <td>239.9</td>\n",
       "      <td>41.5</td>\n",
       "      <td>18.5</td>\n",
       "      <td>23.2</td>\n",
       "    </tr>\n",
       "    <tr>\n",
       "      <th>48</th>\n",
       "      <td>49</td>\n",
       "      <td>227.2</td>\n",
       "      <td>15.8</td>\n",
       "      <td>49.9</td>\n",
       "      <td>14.8</td>\n",
       "    </tr>\n",
       "    <tr>\n",
       "      <th>49</th>\n",
       "      <td>50</td>\n",
       "      <td>66.9</td>\n",
       "      <td>11.7</td>\n",
       "      <td>36.8</td>\n",
       "      <td>9.7</td>\n",
       "    </tr>\n",
       "  </tbody>\n",
       "</table>\n",
       "</div>"
      ],
      "text/plain": [
       "    no     TV  Radio  Newspaper  Sales\n",
       "0    1  230.1   37.8       69.2   22.1\n",
       "1    2   44.5   39.3       45.1   10.4\n",
       "2    3   17.2   45.9       69.3    9.3\n",
       "3    4  151.5   41.3       58.5   18.5\n",
       "4    5  180.8   10.8       58.4   12.9\n",
       "5    6    8.7   48.9       75.0    7.2\n",
       "6    7   57.5   32.8       23.5   11.8\n",
       "7    8  120.2   19.6       11.6   13.2\n",
       "8    9    8.6    2.1        1.0    4.8\n",
       "9   10  199.8    2.6       21.2   10.6\n",
       "10  11   66.1    5.8       24.2    8.6\n",
       "11  12  214.7   24.0        4.0   17.4\n",
       "12  13   23.8   35.1       65.9    9.2\n",
       "13  14   97.5    7.6        7.2    9.7\n",
       "14  15  204.1   32.9       46.0   19.0\n",
       "15  16  195.4   47.7       52.9   22.4\n",
       "16  17   67.8   36.6      114.0   12.5\n",
       "17  18  281.4   39.6       55.8   24.4\n",
       "18  19   69.2   20.5       18.3   11.3\n",
       "19  20  147.3   23.9       19.1   14.6\n",
       "20  21  218.4   27.7       53.4   18.0\n",
       "21  22  237.4    5.1       23.5   12.5\n",
       "22  23   13.2   15.9       49.6    5.6\n",
       "23  24  228.3   16.9       26.2   15.5\n",
       "24  25   62.3   12.6       18.3    9.7\n",
       "25  26  262.9    3.5       19.5   12.0\n",
       "26  27  142.9   29.3       12.6   15.0\n",
       "27  28  240.1   16.7       22.9   15.9\n",
       "28  29  248.8   27.1       22.9   18.9\n",
       "29  30   70.6   16.0       40.8   10.5\n",
       "30  31  292.9   28.3       43.2   21.4\n",
       "31  32  112.9   17.4       38.6   11.9\n",
       "32  33   97.2    1.5       30.0    9.6\n",
       "33  34  265.6   20.0        0.3   17.4\n",
       "34  35   95.7    1.4        7.4    9.5\n",
       "35  36  290.7    4.1        8.5   12.8\n",
       "36  37  266.9   43.8        5.0   25.4\n",
       "37  38   74.7   49.4       45.7   14.7\n",
       "38  39   43.1   26.7       35.1   10.1\n",
       "39  40  228.0   37.7       32.0   21.5\n",
       "40  41  202.5   22.3       31.6   16.6\n",
       "41  42  177.0   33.4       38.7   17.1\n",
       "42  43  293.6   27.7        1.8   20.7\n",
       "43  44  206.9    8.4       26.4   12.9\n",
       "44  45   25.1   25.7       43.3    8.5\n",
       "45  46  175.1   22.5       31.5   14.9\n",
       "46  47   89.7    9.9       35.7   10.6\n",
       "47  48  239.9   41.5       18.5   23.2\n",
       "48  49  227.2   15.8       49.9   14.8\n",
       "49  50   66.9   11.7       36.8    9.7"
      ]
     },
     "execution_count": 58,
     "metadata": {},
     "output_type": "execute_result"
    }
   ],
   "source": [
    "df[:50]"
   ]
  },
  {
   "cell_type": "code",
   "execution_count": null,
   "metadata": {},
   "outputs": [
    {
     "data": {
      "text/html": [
       "<div>\n",
       "<style scoped>\n",
       "    .dataframe tbody tr th:only-of-type {\n",
       "        vertical-align: middle;\n",
       "    }\n",
       "\n",
       "    .dataframe tbody tr th {\n",
       "        vertical-align: top;\n",
       "    }\n",
       "\n",
       "    .dataframe thead th {\n",
       "        text-align: right;\n",
       "    }\n",
       "</style>\n",
       "<table border=\"1\" class=\"dataframe\">\n",
       "  <thead>\n",
       "    <tr style=\"text-align: right;\">\n",
       "      <th></th>\n",
       "      <th>no</th>\n",
       "      <th>TV</th>\n",
       "      <th>Radio</th>\n",
       "      <th>Newspaper</th>\n",
       "      <th>Sales</th>\n",
       "    </tr>\n",
       "  </thead>\n",
       "  <tbody>\n",
       "    <tr>\n",
       "      <th>20</th>\n",
       "      <td>21</td>\n",
       "      <td>218.4</td>\n",
       "      <td>27.7</td>\n",
       "      <td>53.4</td>\n",
       "      <td>18.0</td>\n",
       "    </tr>\n",
       "    <tr>\n",
       "      <th>21</th>\n",
       "      <td>22</td>\n",
       "      <td>237.4</td>\n",
       "      <td>5.1</td>\n",
       "      <td>23.5</td>\n",
       "      <td>12.5</td>\n",
       "    </tr>\n",
       "    <tr>\n",
       "      <th>22</th>\n",
       "      <td>23</td>\n",
       "      <td>13.2</td>\n",
       "      <td>15.9</td>\n",
       "      <td>49.6</td>\n",
       "      <td>5.6</td>\n",
       "    </tr>\n",
       "    <tr>\n",
       "      <th>23</th>\n",
       "      <td>24</td>\n",
       "      <td>228.3</td>\n",
       "      <td>16.9</td>\n",
       "      <td>26.2</td>\n",
       "      <td>15.5</td>\n",
       "    </tr>\n",
       "    <tr>\n",
       "      <th>24</th>\n",
       "      <td>25</td>\n",
       "      <td>62.3</td>\n",
       "      <td>12.6</td>\n",
       "      <td>18.3</td>\n",
       "      <td>9.7</td>\n",
       "    </tr>\n",
       "    <tr>\n",
       "      <th>25</th>\n",
       "      <td>26</td>\n",
       "      <td>262.9</td>\n",
       "      <td>3.5</td>\n",
       "      <td>19.5</td>\n",
       "      <td>12.0</td>\n",
       "    </tr>\n",
       "    <tr>\n",
       "      <th>26</th>\n",
       "      <td>27</td>\n",
       "      <td>142.9</td>\n",
       "      <td>29.3</td>\n",
       "      <td>12.6</td>\n",
       "      <td>15.0</td>\n",
       "    </tr>\n",
       "    <tr>\n",
       "      <th>27</th>\n",
       "      <td>28</td>\n",
       "      <td>240.1</td>\n",
       "      <td>16.7</td>\n",
       "      <td>22.9</td>\n",
       "      <td>15.9</td>\n",
       "    </tr>\n",
       "    <tr>\n",
       "      <th>28</th>\n",
       "      <td>29</td>\n",
       "      <td>248.8</td>\n",
       "      <td>27.1</td>\n",
       "      <td>22.9</td>\n",
       "      <td>18.9</td>\n",
       "    </tr>\n",
       "    <tr>\n",
       "      <th>29</th>\n",
       "      <td>30</td>\n",
       "      <td>70.6</td>\n",
       "      <td>16.0</td>\n",
       "      <td>40.8</td>\n",
       "      <td>10.5</td>\n",
       "    </tr>\n",
       "    <tr>\n",
       "      <th>30</th>\n",
       "      <td>31</td>\n",
       "      <td>292.9</td>\n",
       "      <td>28.3</td>\n",
       "      <td>43.2</td>\n",
       "      <td>21.4</td>\n",
       "    </tr>\n",
       "    <tr>\n",
       "      <th>31</th>\n",
       "      <td>32</td>\n",
       "      <td>112.9</td>\n",
       "      <td>17.4</td>\n",
       "      <td>38.6</td>\n",
       "      <td>11.9</td>\n",
       "    </tr>\n",
       "    <tr>\n",
       "      <th>32</th>\n",
       "      <td>33</td>\n",
       "      <td>97.2</td>\n",
       "      <td>1.5</td>\n",
       "      <td>30.0</td>\n",
       "      <td>9.6</td>\n",
       "    </tr>\n",
       "    <tr>\n",
       "      <th>33</th>\n",
       "      <td>34</td>\n",
       "      <td>265.6</td>\n",
       "      <td>20.0</td>\n",
       "      <td>0.3</td>\n",
       "      <td>17.4</td>\n",
       "    </tr>\n",
       "    <tr>\n",
       "      <th>34</th>\n",
       "      <td>35</td>\n",
       "      <td>95.7</td>\n",
       "      <td>1.4</td>\n",
       "      <td>7.4</td>\n",
       "      <td>9.5</td>\n",
       "    </tr>\n",
       "    <tr>\n",
       "      <th>35</th>\n",
       "      <td>36</td>\n",
       "      <td>290.7</td>\n",
       "      <td>4.1</td>\n",
       "      <td>8.5</td>\n",
       "      <td>12.8</td>\n",
       "    </tr>\n",
       "    <tr>\n",
       "      <th>36</th>\n",
       "      <td>37</td>\n",
       "      <td>266.9</td>\n",
       "      <td>43.8</td>\n",
       "      <td>5.0</td>\n",
       "      <td>25.4</td>\n",
       "    </tr>\n",
       "    <tr>\n",
       "      <th>37</th>\n",
       "      <td>38</td>\n",
       "      <td>74.7</td>\n",
       "      <td>49.4</td>\n",
       "      <td>45.7</td>\n",
       "      <td>14.7</td>\n",
       "    </tr>\n",
       "    <tr>\n",
       "      <th>38</th>\n",
       "      <td>39</td>\n",
       "      <td>43.1</td>\n",
       "      <td>26.7</td>\n",
       "      <td>35.1</td>\n",
       "      <td>10.1</td>\n",
       "    </tr>\n",
       "    <tr>\n",
       "      <th>39</th>\n",
       "      <td>40</td>\n",
       "      <td>228.0</td>\n",
       "      <td>37.7</td>\n",
       "      <td>32.0</td>\n",
       "      <td>21.5</td>\n",
       "    </tr>\n",
       "    <tr>\n",
       "      <th>40</th>\n",
       "      <td>41</td>\n",
       "      <td>202.5</td>\n",
       "      <td>22.3</td>\n",
       "      <td>31.6</td>\n",
       "      <td>16.6</td>\n",
       "    </tr>\n",
       "    <tr>\n",
       "      <th>41</th>\n",
       "      <td>42</td>\n",
       "      <td>177.0</td>\n",
       "      <td>33.4</td>\n",
       "      <td>38.7</td>\n",
       "      <td>17.1</td>\n",
       "    </tr>\n",
       "    <tr>\n",
       "      <th>42</th>\n",
       "      <td>43</td>\n",
       "      <td>293.6</td>\n",
       "      <td>27.7</td>\n",
       "      <td>1.8</td>\n",
       "      <td>20.7</td>\n",
       "    </tr>\n",
       "    <tr>\n",
       "      <th>43</th>\n",
       "      <td>44</td>\n",
       "      <td>206.9</td>\n",
       "      <td>8.4</td>\n",
       "      <td>26.4</td>\n",
       "      <td>12.9</td>\n",
       "    </tr>\n",
       "    <tr>\n",
       "      <th>44</th>\n",
       "      <td>45</td>\n",
       "      <td>25.1</td>\n",
       "      <td>25.7</td>\n",
       "      <td>43.3</td>\n",
       "      <td>8.5</td>\n",
       "    </tr>\n",
       "    <tr>\n",
       "      <th>45</th>\n",
       "      <td>46</td>\n",
       "      <td>175.1</td>\n",
       "      <td>22.5</td>\n",
       "      <td>31.5</td>\n",
       "      <td>14.9</td>\n",
       "    </tr>\n",
       "    <tr>\n",
       "      <th>46</th>\n",
       "      <td>47</td>\n",
       "      <td>89.7</td>\n",
       "      <td>9.9</td>\n",
       "      <td>35.7</td>\n",
       "      <td>10.6</td>\n",
       "    </tr>\n",
       "    <tr>\n",
       "      <th>47</th>\n",
       "      <td>48</td>\n",
       "      <td>239.9</td>\n",
       "      <td>41.5</td>\n",
       "      <td>18.5</td>\n",
       "      <td>23.2</td>\n",
       "    </tr>\n",
       "    <tr>\n",
       "      <th>48</th>\n",
       "      <td>49</td>\n",
       "      <td>227.2</td>\n",
       "      <td>15.8</td>\n",
       "      <td>49.9</td>\n",
       "      <td>14.8</td>\n",
       "    </tr>\n",
       "    <tr>\n",
       "      <th>49</th>\n",
       "      <td>50</td>\n",
       "      <td>66.9</td>\n",
       "      <td>11.7</td>\n",
       "      <td>36.8</td>\n",
       "      <td>9.7</td>\n",
       "    </tr>\n",
       "  </tbody>\n",
       "</table>\n",
       "</div>"
      ],
      "text/plain": [
       "    no     TV  Radio  Newspaper  Sales\n",
       "20  21  218.4   27.7       53.4   18.0\n",
       "21  22  237.4    5.1       23.5   12.5\n",
       "22  23   13.2   15.9       49.6    5.6\n",
       "23  24  228.3   16.9       26.2   15.5\n",
       "24  25   62.3   12.6       18.3    9.7\n",
       "25  26  262.9    3.5       19.5   12.0\n",
       "26  27  142.9   29.3       12.6   15.0\n",
       "27  28  240.1   16.7       22.9   15.9\n",
       "28  29  248.8   27.1       22.9   18.9\n",
       "29  30   70.6   16.0       40.8   10.5\n",
       "30  31  292.9   28.3       43.2   21.4\n",
       "31  32  112.9   17.4       38.6   11.9\n",
       "32  33   97.2    1.5       30.0    9.6\n",
       "33  34  265.6   20.0        0.3   17.4\n",
       "34  35   95.7    1.4        7.4    9.5\n",
       "35  36  290.7    4.1        8.5   12.8\n",
       "36  37  266.9   43.8        5.0   25.4\n",
       "37  38   74.7   49.4       45.7   14.7\n",
       "38  39   43.1   26.7       35.1   10.1\n",
       "39  40  228.0   37.7       32.0   21.5\n",
       "40  41  202.5   22.3       31.6   16.6\n",
       "41  42  177.0   33.4       38.7   17.1\n",
       "42  43  293.6   27.7        1.8   20.7\n",
       "43  44  206.9    8.4       26.4   12.9\n",
       "44  45   25.1   25.7       43.3    8.5\n",
       "45  46  175.1   22.5       31.5   14.9\n",
       "46  47   89.7    9.9       35.7   10.6\n",
       "47  48  239.9   41.5       18.5   23.2\n",
       "48  49  227.2   15.8       49.9   14.8\n",
       "49  50   66.9   11.7       36.8    9.7"
      ]
     },
     "execution_count": 59,
     "metadata": {},
     "output_type": "execute_result"
    }
   ],
   "source": [
    "df[20:50]"
   ]
  },
  {
   "cell_type": "code",
   "execution_count": null,
   "metadata": {},
   "outputs": [
    {
     "data": {
      "text/plain": [
       "TV       202.5\n",
       "Radio     22.3\n",
       "Name: 40, dtype: float64"
      ]
     },
     "execution_count": 66,
     "metadata": {},
     "output_type": "execute_result"
    }
   ],
   "source": [
    "# df.loc 通过标签索引行数据\n",
    "df.loc[40,[\"TV\",\"Radio\"]] # 第40行TV"
   ]
  },
  {
   "cell_type": "code",
   "execution_count": null,
   "metadata": {},
   "outputs": [
    {
     "data": {
      "text/html": [
       "<div>\n",
       "<style scoped>\n",
       "    .dataframe tbody tr th:only-of-type {\n",
       "        vertical-align: middle;\n",
       "    }\n",
       "\n",
       "    .dataframe tbody tr th {\n",
       "        vertical-align: top;\n",
       "    }\n",
       "\n",
       "    .dataframe thead th {\n",
       "        text-align: right;\n",
       "    }\n",
       "</style>\n",
       "<table border=\"1\" class=\"dataframe\">\n",
       "  <thead>\n",
       "    <tr style=\"text-align: right;\">\n",
       "      <th></th>\n",
       "      <th>Radio</th>\n",
       "      <th>Newspaper</th>\n",
       "    </tr>\n",
       "  </thead>\n",
       "  <tbody>\n",
       "    <tr>\n",
       "      <th>1</th>\n",
       "      <td>39.3</td>\n",
       "      <td>45.1</td>\n",
       "    </tr>\n",
       "    <tr>\n",
       "      <th>2</th>\n",
       "      <td>45.9</td>\n",
       "      <td>69.3</td>\n",
       "    </tr>\n",
       "  </tbody>\n",
       "</table>\n",
       "</div>"
      ],
      "text/plain": [
       "   Radio  Newspaper\n",
       "1   39.3       45.1\n",
       "2   45.9       69.3"
      ]
     },
     "execution_count": 68,
     "metadata": {},
     "output_type": "execute_result"
    }
   ],
   "source": [
    "#df.iloc 通过位置获取行数据\n",
    "#iloc，你就得通过位置进行查找或者修改，这时候就不能用index的具体值去了\n",
    "#尤其注意：iloc中，:表示范围是左闭右开的，这跟loc不太一样\n",
    "df.iloc[1:3,[2,3]]# 1 到 3Radio行 , 2和3 列1"
   ]
  },
  {
   "cell_type": "markdown",
   "metadata": {},
   "source": [
    "## matplotlib"
   ]
  },
  {
   "cell_type": "code",
   "execution_count": null,
   "metadata": {},
   "outputs": [],
   "source": [
    "import matplotlib.pyplot as plt"
   ]
  },
  {
   "cell_type": "code",
   "execution_count": null,
   "metadata": {},
   "outputs": [
    {
     "data": {
      "image/png": "[encoded data removed]",
      "text/plain": [
       "<Figure size 640x480 with 1 Axes>"
      ]
     },
     "metadata": {},
     "output_type": "display_data"
    }
   ],
   "source": [
    "X = 2 * np.random.rand(100, 1)\n",
    "y = 4 + 3 * X + np.random.randn(100, 1)\n",
    "plt.plot(X, y, 'ro', label='Y value')\n",
    "plt.legend(loc='lower right')\n",
    "plt.grid()\n",
    "plt.show()"
   ]
  },
  {
   "cell_type": "code",
   "execution_count": null,
   "metadata": {},
   "outputs": [
    {
     "data": {
      "image/png": "[encoded data removed]",
      "text/plain": [
       "<Figure size 900x400 with 2 Axes>"
      ]
     },
     "metadata": {},
     "output_type": "display_data"
    }
   ],
   "source": [
    "fig, axs = plt.subplots(nrows=1, ncols=2, figsize=(9, 4))\n",
    "# Fixing random state for reproducibility\n",
    "np.random.seed(19680801)\n",
    "\n",
    "# generate some random test data\n",
    "all_data = [np.random.normal(0, std, 100) for std in range(6, 10)]\n",
    "\n",
    "# plot violin plot\n",
    "axs[0].violinplot(all_data,\n",
    "                  showmeans=False,\n",
    "                  showmedians=True)\n",
    "axs[0].set_title('Violin plot')\n",
    "\n",
    "# plot box plot\n",
    "axs[1].boxplot(all_data)\n",
    "axs[1].set_title('Box plot')\n",
    "\n",
    "# adding horizontal grid lines\n",
    "for ax in axs:\n",
    "    ax.yaxis.grid(True)\n",
    "    ax.set_xticks([y + 1 for y in range(len(all_data))],\n",
    "                  labels=['x1', 'x2', 'x3', 'x4'])\n",
    "    ax.set_xlabel('Four separate samples')\n",
    "    ax.set_ylabel('Observed values')\n",
    "\n",
    "plt.show()"
   ]
  },
  {
   "cell_type": "code",
   "execution_count": null,
   "metadata": {},
   "outputs": [
    {
     "data": {
      "text/plain": [
       "array([  6.47951832,  -4.68141594,   9.10404802,  -4.22184933,\n",
       "         4.6472307 ,   4.50908547,  -8.44303969,   3.07007368,\n",
       "         0.22274875,  -3.69190122, -10.25986887,  -1.53121493,\n",
       "        10.74196968, -10.23833877,  -0.82788158,   4.12378297,\n",
       "        -0.47570984,   8.41042682,  -5.20154345,  -5.14238544,\n",
       "        -8.90245452,  -6.69640686,   1.76916752,   3.80576341,\n",
       "        -3.58746345,  -0.81221156,  -2.23894679,   3.41757063,\n",
       "        12.38744528,  -6.00212897,   1.78393304,   0.7528985 ,\n",
       "         7.36494857,   9.27119551,  -7.70924229,   4.59679079,\n",
       "         1.95442147,  -2.63593198,   0.53549996, -12.25373525,\n",
       "         5.50231279,  -0.62332488,   0.23181731,   7.66489526,\n",
       "         3.13811362,   7.72588214,   9.13486896,  -7.76583084,\n",
       "         3.47329934,   3.21290043,  -1.41611879,   1.37231737,\n",
       "         0.69158642,  -7.91258992,  -2.30364986,   6.38810577,\n",
       "        -3.07356095, -11.53246787,   2.72174751,   0.49489396,\n",
       "        -4.20205648,   1.17481416,  -0.74797388,  10.23020337,\n",
       "        -1.22335339,  -3.96770444,   3.29418013,  -0.94060939,\n",
       "         2.49705664,  -1.45121034,   8.72845223,   1.86158213,\n",
       "        -2.81017837,  -0.27711564,  -3.82475069,  -3.2927426 ,\n",
       "        -0.07662015,   5.98220091,  -6.61405091,   9.82446609,\n",
       "         8.18470756,  -4.87780124,  -2.72981565,  -4.89553481,\n",
       "        -3.62128649,   5.6445552 ,   8.50246813,  -7.61377893,\n",
       "        -1.84656783,   5.829365  ,   1.63354513,  10.12577979,\n",
       "        -6.90682242, -14.00626761,   8.11141217, -15.65843034,\n",
       "         3.11995914,  -0.06191055,  -4.44607479,  -2.10266642])"
      ]
     },
     "execution_count": 10,
     "metadata": {},
     "output_type": "execute_result"
    }
   ],
   "source": []
  },
  {
   "cell_type": "code",
   "execution_count": null,
   "metadata": {},
   "outputs": [],
   "source": []
  }
 ],
 "metadata": {
  "kernelspec": {
   "display_name": "Python 3 (ipykernel)",
   "language": "python",
   "name": "python3"
  },
  "language_info": {
   "codemirror_mode": {
    "name": "ipython",
    "version": 3
   },
   "file_extension": ".py",
   "mimetype": "text/x-python",
   "name": "python",
   "nbconvert_exporter": "python",
   "pygments_lexer": "ipython3",
   "version": "3.9.15"
  }
 },
 "nbformat": 4,
 "nbformat_minor": 1
}
