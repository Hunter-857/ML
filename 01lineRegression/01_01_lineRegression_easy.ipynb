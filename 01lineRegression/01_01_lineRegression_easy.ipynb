{
 "cells": [
  {
   "cell_type": "code",
   "execution_count": 8,
   "metadata": {},
   "outputs": [],
   "source": [
    "import matplotlib.pyplot as plt\n",
    "import numpy as np\n",
    "import torch\n",
    "import random\n",
    "# nn是神经网络的缩写\n",
    "from torch import nn\n",
    "from torch.utils import data\n",
    "import os\n",
    "\n",
    "os.environ[\"KMP_DUPLICATE_LIB_OK\"]=\"TRUE\" # https://blog.51cto.com/u_15057807/4403590 有一个文件重复的问题"
   ]
  },
  {
   "cell_type": "markdown",
   "metadata": {},
   "source": [
    "# 更加简洁的实现\n",
    "生成数据，实际问题中数据可能是从一些数据集里读取的，也可能需要我们经过一些清洗\n"
   ]
  },
  {
   "cell_type": "code",
   "execution_count": 9,
   "metadata": {},
   "outputs": [
    {
     "name": "stdout",
     "output_type": "stream",
     "text": [
      "features: tensor([0.8185, 0.3014]) \n",
      "label: tensor([4.8160])\n"
     ]
    }
   ],
   "source": [
    "def synthetic_data(w, b, num_examples):  # @save\n",
    "    \"\"\"生成y=Xw+b+噪声\"\"\"\n",
    "    X = torch.normal(0, 1, (num_examples, len(w)))\n",
    "    y = torch.matmul(X, w) + b\n",
    "    y += torch.normal(0, 0.01, y.shape)\n",
    "    return X, y.reshape((-1, 1))\n",
    "\n",
    "\n",
    "true_w = torch.tensor([2, -3.4])\n",
    "true_b = 4.2\n",
    "features, labels = synthetic_data(true_w, true_b, 1000)\n",
    "\n",
    "print('features:', features[0],'\\nlabel:', labels[0])"
   ]
  },
  {
   "cell_type": "markdown",
   "source": [
    "> features 是一个tensor\n",
    "\n",
    "features[:,0] # 只取第0维的向量\n",
    "features[:,1] # 只取第1维的向量\n",
    "\n",
    "tensor.detach()\n",
    "\n",
    "> detach()\n",
    "\n",
    "从计算图中脱离出来。\n",
    "\n",
    "> detach()的官方说明如下：\n",
    "Returns a new Tensor, detached from the current graph. The result will never require gradient.\n",
    "\n",
    ".numpy()\n",
    "将张量转换为与其共享底层存储的 n 维 numpy 数组"
   ],
   "metadata": {
    "collapsed": false
   }
  },
  {
   "cell_type": "code",
   "execution_count": 58,
   "metadata": {},
   "outputs": [
    {
     "data": {
      "text/plain": "<Figure size 640x480 with 1 Axes>",
      "image/png": "[encoded data removed]"
     },
     "metadata": {},
     "output_type": "display_data"
    }
   ],
   "source": [
    "# 只是取了其中一个变量来 宏观额看关系\n",
    "plt.plot(features[:, 1].detach().numpy(), labels.detach().numpy(), 'ro', label='Y value')\n",
    "plt.legend(loc='lower right')\n",
    "plt.grid()\n",
    "plt.show()"
   ]
  },
  {
   "cell_type": "markdown",
   "source": [
    "## 线性回归 pytorch\n",
    "* 定义神经网络\n",
    "* 定义损失函数\n",
    "* 定义优化器\n",
    "* 运行batch"
   ],
   "metadata": {
    "collapsed": false
   }
  },
  {
   "cell_type": "markdown",
   "source": [
    "使用data_iter的方式与我们在 :numref:sec_linear_scratch中使用data_iter函数的方式相同。为了验证是否正常工作，让我们读取并打印第一个小批量样本。\n",
    " 与 :numref:sec_linear_scratch不同，这里我们使用iter构造Python迭代器，并使用next从迭代器中获取第一项。\n",
    "\n",
    "代码中batch_size == 10 ,就是从feature ,labels 里面 一次取10个。"
   ],
   "metadata": {
    "collapsed": false
   }
  },
  {
   "cell_type": "code",
   "execution_count": 59,
   "outputs": [
    {
     "data": {
      "text/plain": "[tensor([[ 0.8534,  1.4222],\n         [ 1.4419, -0.2020],\n         [-0.0401,  0.2890],\n         [-0.9539,  0.3509],\n         [-0.4187, -0.9929],\n         [ 1.4021, -1.5702],\n         [ 0.3018,  1.7049],\n         [-0.7192,  2.0457],\n         [-0.7117,  0.4898],\n         [-0.4806,  0.5463]]),\n tensor([[ 1.0758],\n         [ 7.7889],\n         [ 3.1351],\n         [ 1.0855],\n         [ 6.7430],\n         [12.3495],\n         [-0.9882],\n         [-4.2064],\n         [ 1.1095],\n         [ 1.3775]])]"
     },
     "execution_count": 59,
     "metadata": {},
     "output_type": "execute_result"
    }
   ],
   "source": [
    "def load_array(data_arrays, batch_size, is_train=True):  #@save\n",
    "    \"\"\"\n",
    "    构造一个PyTorch数据迭代器\n",
    "    \"\"\"\n",
    "    dataset = data.TensorDataset(*data_arrays)\n",
    "    return data.DataLoader(dataset, batch_size, shuffle=is_train) # 数据加载器\n",
    "batch_size = 10\n",
    "data_iter = load_array((features, labels), batch_size)\n",
    "next(iter(data_iter))"
   ],
   "metadata": {
    "collapsed": false
   }
  },
  {
   "cell_type": "markdown",
   "source": [
    "## 定义一层的线性模型"
   ],
   "metadata": {
    "collapsed": false
   }
  },
  {
   "cell_type": "code",
   "execution_count": 60,
   "outputs": [],
   "source": [
    "net = nn.Sequential(nn.Linear(2, 1))# 参数int: in_features , int: out_features,输入w，b 得到Y"
   ],
   "metadata": {
    "collapsed": false
   }
  },
  {
   "cell_type": "markdown",
   "source": [
    "(初始化模型参数)\n",
    "在使用net之前，我们需要初始化模型参数。 如在线性回归模型中的权重和偏置。 深度学习框架通常有预定义的方法来初始化参数。 在这里，我们指定每个权重参数应该从均值为0、标准差为0.01的正态分布中随机采样， 偏置参数将初始化为零。"
   ],
   "metadata": {
    "collapsed": false
   }
  },
  {
   "cell_type": "markdown",
   "source": [
    "正如我们在构造nn.Linear时指定输入和输出尺寸一样， 现在我们能直接访问参数以设定它们的初始值。\n",
    "我们通过net[0]选择网络中的第一个图层， 然后使用weight.data和bias.data方法访问参数。 我们还可以使用替换方法normal_和fill_来重写参数值。\n"
   ],
   "metadata": {
    "collapsed": false
   }
  },
  {
   "cell_type": "code",
   "execution_count": 61,
   "outputs": [
    {
     "data": {
      "text/plain": "tensor([0.])"
     },
     "execution_count": 61,
     "metadata": {},
     "output_type": "execute_result"
    }
   ],
   "source": [
    "net[0].weight.data.normal_(0, 0.01)\n",
    "net[0].bias.data.fill_(0)"
   ],
   "metadata": {
    "collapsed": false
   }
  },
  {
   "cell_type": "markdown",
   "metadata": {},
   "source": [
    "定义损失函数\n",
    "计算均方误差使用的是MSELoss类，也称为平方 $L_2$ 范数, 默认情况下，它返回所有样本损失的平均值。\n",
    "[MSELoss ](https://pytorch.org/docs/stable/generated/torch.nn.MSELoss.html)"
   ]
  },
  {
   "cell_type": "code",
   "execution_count": 62,
   "metadata": {},
   "outputs": [],
   "source": [
    "loss = nn.MSELoss()"
   ]
  },
  {
   "cell_type": "markdown",
   "source": [
    "定义损失函数"
   ],
   "metadata": {
    "collapsed": false
   }
  },
  {
   "cell_type": "code",
   "execution_count": 63,
   "outputs": [],
   "source": [
    "## SGD 随机梯度先下降 学习率 0.03\n",
    "trainer = torch.optim.SGD(net.parameters(), lr=0.03)"
   ],
   "metadata": {
    "collapsed": false
   }
  },
  {
   "cell_type": "code",
   "execution_count": 81,
   "metadata": {},
   "outputs": [
    {
     "name": "stdout",
     "output_type": "stream",
     "text": [
      "第%d次 0\n",
      "第%d次 1\n",
      "第%d次 2\n",
      "第%d次 3\n",
      "第%d次 4\n",
      "第%d次 5\n",
      "第%d次 6\n",
      "第%d次 7\n",
      "第%d次 8\n",
      "第%d次 9\n",
      "第%d次 10\n",
      "第%d次 11\n",
      "第%d次 12\n",
      "第%d次 13\n",
      "第%d次 14\n",
      "第%d次 15\n",
      "第%d次 16\n",
      "第%d次 17\n",
      "第%d次 18\n",
      "第%d次 19\n",
      "第%d次 20\n",
      "第%d次 21\n",
      "第%d次 22\n",
      "第%d次 23\n",
      "第%d次 24\n",
      "第%d次 25\n",
      "第%d次 26\n",
      "第%d次 27\n",
      "第%d次 28\n",
      "第%d次 29\n",
      "第%d次 30\n",
      "第%d次 31\n",
      "第%d次 32\n",
      "第%d次 33\n",
      "第%d次 34\n",
      "第%d次 35\n",
      "第%d次 36\n",
      "第%d次 37\n",
      "第%d次 38\n",
      "第%d次 39\n",
      "第%d次 40\n",
      "第%d次 41\n",
      "第%d次 42\n",
      "第%d次 43\n",
      "第%d次 44\n",
      "第%d次 45\n",
      "第%d次 46\n",
      "第%d次 47\n",
      "第%d次 48\n",
      "第%d次 49\n",
      "第%d次 50\n",
      "第%d次 51\n",
      "第%d次 52\n",
      "第%d次 53\n",
      "第%d次 54\n",
      "第%d次 55\n",
      "第%d次 56\n",
      "第%d次 57\n",
      "第%d次 58\n",
      "第%d次 59\n",
      "第%d次 60\n",
      "第%d次 61\n",
      "第%d次 62\n",
      "第%d次 63\n",
      "第%d次 64\n",
      "第%d次 65\n",
      "第%d次 66\n",
      "第%d次 67\n",
      "第%d次 68\n",
      "第%d次 69\n",
      "第%d次 70\n",
      "第%d次 71\n",
      "第%d次 72\n",
      "第%d次 73\n",
      "第%d次 74\n",
      "第%d次 75\n",
      "第%d次 76\n",
      "第%d次 77\n",
      "第%d次 78\n",
      "第%d次 79\n",
      "第%d次 80\n",
      "第%d次 81\n",
      "第%d次 82\n",
      "第%d次 83\n",
      "第%d次 84\n",
      "第%d次 85\n",
      "第%d次 86\n",
      "第%d次 87\n",
      "第%d次 88\n",
      "第%d次 89\n",
      "第%d次 90\n",
      "第%d次 91\n",
      "第%d次 92\n",
      "第%d次 93\n",
      "第%d次 94\n",
      "第%d次 95\n",
      "第%d次 96\n",
      "第%d次 97\n",
      "第%d次 98\n",
      "第%d次 99\n",
      "w的估计误差： tensor([ 0.0009, -0.0001])\n"
     ]
    }
   ],
   "source": [
    "num_epochs = 3\n",
    "loss_list = []\n",
    "i = 0\n",
    "for epoch in range(num_epochs):\n",
    "    for X, y in data_iter:\n",
    "        l = loss(net(X) ,y)\n",
    "        trainer.zero_grad()\n",
    "        l.backward()\n",
    "        trainer.step()\n",
    "       # # 从图里看得出来 很快就收敛了，得到了想要的 w 和 bprint(\"第%d次\",i)\n",
    "       # i=i+1\n",
    "    l = w = net[0].weight.data\n",
    "    print('w的估计误差：', true_w - w.reshape(true_w.shape))"
   ]
  },
  {
   "cell_type": "code",
   "execution_count": 77,
   "metadata": {},
   "outputs": [
    {
     "name": "stdout",
     "output_type": "stream",
     "text": [
      "w的估计误差： tensor([7.7081e-04, 4.5300e-05])\n",
      "b的估计误差： tensor([0.0005])\n"
     ]
    }
   ],
   "source": [
    "w = net[0].weight.data\n",
    "print('w的估计误差：', true_w - w.reshape(true_w.shape))\n",
    "b = net[0].bias.data\n",
    "print('b的估计误差：', true_b - b)"
   ]
  },
  {
   "cell_type": "code",
   "execution_count": 78,
   "outputs": [
    {
     "data": {
      "text/plain": "<Figure size 640x480 with 1 Axes>",
      "image/png": "[encoded data removed]"
     },
     "metadata": {},
     "output_type": "display_data"
    }
   ],
   "source": [
    "# 从图里看得出来 很快就收敛了，得到了想要的 w 和 b\n",
    "plt.plot(loss_list, 'ro', label='loss value')\n",
    "plt.legend(loc='lower right')\n",
    "plt.grid()\n",
    "plt.show()"
   ],
   "metadata": {
    "collapsed": false
   }
  },
  {
   "cell_type": "markdown",
   "metadata": {},
   "source": []
  }
 ],
 "metadata": {
  "kernelspec": {
   "display_name": "Python 3 (ipykernel)",
   "language": "python",
   "name": "python3"
  },
  "language_info": {
   "codemirror_mode": {
    "name": "ipython",
    "version": 3
   },
   "file_extension": ".py",
   "mimetype": "text/x-python",
   "name": "python",
   "nbconvert_exporter": "python",
   "pygments_lexer": "ipython3",
   "version": "3.9.15"
  },
  "toc": {
   "base_numbering": 1,
   "nav_menu": {},
   "number_sections": true,
   "sideBar": true,
   "skip_h1_title": false,
   "title_cell": "Table of Contents",
   "title_sidebar": "Contents",
   "toc_cell": false,
   "toc_position": {},
   "toc_section_display": true,
   "toc_window_display": false
  }
 },
 "nbformat": 4,
 "nbformat_minor": 1
}
